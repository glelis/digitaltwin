{
 "cells": [
  {
   "cell_type": "code",
   "execution_count": 8,
   "metadata": {},
   "outputs": [],
   "source": [
    "from openpyxl import load_workbook\n",
    "import json\n",
    "import os\n",
    "\n",
    "diretorio_fmea = os.path.join('..', '..','1_dados_raw','excel')\n",
    "arquivo_fmea = 'RT-BSK-2018-005-18001-TEC-008=1 Assessment RS01 - Reação Tubular.xlsx'\n",
    "diretorio_exportado = ''\n",
    "nome_exportado = 'lista_tags_12P07.json'\n",
    "\n",
    "# Posicao do nome (BSK) da primeira tag do primeiro modo de falha\n",
    "posicao_tag_primeira_falha = 'L11'\n",
    "\n",
    "arquivo_fmea = os.path.join(diretorio_fmea, arquivo_fmea) \n",
    "arquivo_exportado = os.path.join(diretorio_exportado, nome_exportado) \n",
    "\n",
    "wb = load_workbook(filename = arquivo_fmea, data_only=True)\n",
    "fmea_sheet = wb['FMEA']\n",
    "\n",
    "falhas_set = set()\n",
    "celula_referencia = fmea_sheet[posicao_tag_primeira_falha]\n",
    "posicao_atual = [celula_referencia.row, celula_referencia.column]\n",
    "\n",
    "while True:\n",
    "    primeira_tag_falha = fmea_sheet.cell(row=posicao_atual[0], column=posicao_atual[1])\n",
    "    \n",
    "    if primeira_tag_falha.value == None:\n",
    "        break\n",
    "        \n",
    "    while True:\n",
    "        tag_bsk = fmea_sheet.cell(row=posicao_atual[0], column=posicao_atual[1])\n",
    "        tag_rdx = fmea_sheet.cell(row=posicao_atual[0], column=posicao_atual[1] + 1)\n",
    "\n",
    "        if tag_bsk.value == None and tag_rdx.value == None:\n",
    "            break\n",
    "        \n",
    "        tag = {'id': tag_rdx.value, 'desc': tag_bsk.value}\n",
    "        \n",
    "        tag_json = json.dumps(tag, ensure_ascii=False)\n",
    "        falhas_set.add(tag_json)\n",
    "        posicao_atual[0] += 1\n",
    "    \n",
    "    posicao_atual[0] = celula_referencia.row\n",
    "    posicao_atual[1] +=  4\n",
    "\n",
    "with open(arquivo_exportado, 'w') as outfile:\n",
    "    json.dump(list(falhas_set), outfile)\n"
   ]
  },
  {
   "cell_type": "code",
   "execution_count": 6,
   "metadata": {},
   "outputs": [
    {
     "name": "stdout",
     "output_type": "stream",
     "text": [
      "259\n"
     ]
    }
   ],
   "source": [
    "print(len(falhas_set))"
   ]
  }
 ],
 "metadata": {
  "kernelspec": {
   "display_name": "Python 3",
   "language": "python",
   "name": "python3"
  },
  "language_info": {
   "codemirror_mode": {
    "name": "ipython",
    "version": 3
   },
   "file_extension": ".py",
   "mimetype": "text/x-python",
   "name": "python",
   "nbconvert_exporter": "python",
   "pygments_lexer": "ipython3",
   "version": "3.7.3"
  }
 },
 "nbformat": 4,
 "nbformat_minor": 2
}
