{
 "cells": [
  {
   "cell_type": "code",
   "execution_count": 8,
   "metadata": {},
   "outputs": [],
   "source": [
    "import pandas as pd\n",
    "from thermo.eos import *\n",
    "from thermo.eos_mix import *\n",
    "import numpy as np\n",
    "import math\n",
    "from thermo.chemical import *\n",
    "from thermo.mixture import *\n",
    "import pandas as pd\n",
    "from collections import OrderedDict\n",
    "import os"
   ]
  },
  {
   "cell_type": "code",
   "execution_count": 9,
   "metadata": {},
   "outputs": [],
   "source": [
    "def path(name):\n",
    "    path = os.path.join('..','..','1_preprocessamento','out',name)\n",
    "    return(path)"
   ]
  },
  {
   "cell_type": "code",
   "execution_count": 3,
   "metadata": {},
   "outputs": [],
   "source": [
    "def get_parameters(composicao):\n",
    "\n",
    "    temp_critica =[]\n",
    "    press_critica = []\n",
    "    mw = []\n",
    "    omega = []\n",
    "    cp_g = []\n",
    "    cv_g = [] \n",
    "    componentes = []\n",
    "    \n",
    "    for tag in composicao:\n",
    "        \n",
    "        temp_critica.append(tag.Tc)\n",
    "        press_critica.append(tag.Pc)\n",
    "        mw.append(tag.MW)\n",
    "        omega.append(tag.omega)\n",
    "        cp_g.append(tag.Cpg)\n",
    "        cv_g.append(tag.Cvg)\n",
    "        componentes.append(tag.name)\n",
    "        \n",
    "    dados = {   'Componentes': componentes,\n",
    "                'Tcs': temp_critica,\n",
    "                'Pcs': press_critica,\n",
    "                'MW': mw,\n",
    "                'omegas': omega,\n",
    "                'Cp_g_ID': cp_g,\n",
    "                'Cv_g_ID': cv_g}\n",
    "    \n",
    "    return (dados)"
   ]
  },
  {
   "cell_type": "code",
   "execution_count": 4,
   "metadata": {},
   "outputs": [],
   "source": [
    "def dados_compressor(A , metric_unit = 'mm'):\n",
    "    \n",
    "    if metric_unit == 'mm':\n",
    "        A['diametro_cilindro'] = A['diametro_cilindro'] * 0.001\n",
    "        A['diametro_haste'] = A['diametro_haste'] * 0.001\n",
    "        A['curso_pistao'] = A['curso_pistao'] * 0.001\n",
    "    \n",
    "    \n",
    "    A['vol_deslc_cilindro'] = (A['qtd_efeitos'] *A['diametro_cilindro']**2 - A['diametro_haste']**2) * math.pi * A['curso_pistao']/4\n",
    "    A['vazao_volumetrica'] = A['vol_deslc_cilindro'] * A['rpm'] * 60 * A['qtd_cilindros']\n",
    "    A['vel_pistao'] = (2 * A['curso_pistao'] * A['rpm'])/60\n",
    "  \n",
    "   \n",
    "    return A"
   ]
  },
  {
   "cell_type": "code",
   "execution_count": 5,
   "metadata": {},
   "outputs": [],
   "source": [
    "primeiro_estagio = {  'qtd_cilindros': 1 ,\n",
    "                     'cilindros_lubrificados' : 0,\n",
    "                     'qtd_efeitos' : 2,\n",
    "                     'diametro_cilindro' :490,\n",
    "                     'curso_pistao' : 160,\n",
    "                     'diametro_haste' : 75,\n",
    "                     'clearance' : 12.5,\n",
    "                     'rpm' : 710,\n",
    "                     'vol_deslc_cilindro' : 0,\n",
    "                     'vazao_volumetrica' : 0,\n",
    "                     'vel_pistao' : 0}\n",
    "\n",
    "segundo_estagio = {  'qtd_cilindros': 2 ,\n",
    "                     'cilindros_lubrificados' : 0,\n",
    "                     'qtd_efeitos' : 2,\n",
    "                     'diametro_cilindro' :235,\n",
    "                     'curso_pistao' : 160,\n",
    "                     'diametro_haste' : 75,\n",
    "                     'clearance' : 11.64,\n",
    "                     'rpm' : 710,\n",
    "                     'vol_deslc_cilindro' : 0,\n",
    "                     'vazao_volumetrica' : 0,\n",
    "                     'vel_pistao' : 0}"
   ]
  },
  {
   "cell_type": "code",
   "execution_count": 6,
   "metadata": {},
   "outputs": [],
   "source": [
    "tag_press = ['Date',\n",
    "             'PI3417.PV', #BARG\n",
    "             'PI3406.PV'  #BAR\n",
    "            ]\n",
    "\n",
    "tag_temp = ['Date', 'TI3409.PV', 'TI3403.PV', 'TI3404.PV']\n",
    "\n",
    "tag_gas = [ 'Date',\n",
    "            'AI25121.PV',\n",
    "            'AI25131.PV',\n",
    "            'AI25141.PV',\n",
    "            'AI25151.PV',\n",
    "            'AI25161.PV',\n",
    "            'AI25171.PV',\n",
    "            'AI25181.PV',\n",
    "            'AI25191.PV']\n",
    "            "
   ]
  },
  {
   "cell_type": "code",
   "execution_count": null,
   "metadata": {},
   "outputs": [],
   "source": [
    "tipi = pd.read_csv('tipi.csv', nrows=1000000)"
   ]
  },
  {
   "cell_type": "code",
   "execution_count": null,
   "metadata": {},
   "outputs": [],
   "source": [
    "df_gas = pd.read_csv('df_gas.csv', nrows=1000000)"
   ]
  },
  {
   "cell_type": "code",
   "execution_count": null,
   "metadata": {},
   "outputs": [],
   "source": [
    "df_gas.isna().sum()"
   ]
  },
  {
   "cell_type": "code",
   "execution_count": 7,
   "metadata": {},
   "outputs": [
    {
     "ename": "MemoryError",
     "evalue": "",
     "output_type": "error",
     "traceback": [
      "\u001b[1;31m---------------------------------------------------------------------------\u001b[0m",
      "\u001b[1;31mMemoryError\u001b[0m                               Traceback (most recent call last)",
      "\u001b[1;32m<ipython-input-7-cb2ef55b9cd3>\u001b[0m in \u001b[0;36m<module>\u001b[1;34m\u001b[0m\n\u001b[0;32m      1\u001b[0m \u001b[0mname\u001b[0m \u001b[1;33m=\u001b[0m \u001b[1;34m'df_gas.csv.gz'\u001b[0m\u001b[1;33m\u001b[0m\u001b[1;33m\u001b[0m\u001b[0m\n\u001b[1;32m----> 2\u001b[1;33m \u001b[0mdf_gas\u001b[0m \u001b[1;33m=\u001b[0m \u001b[0mpd\u001b[0m\u001b[1;33m.\u001b[0m\u001b[0mread_csv\u001b[0m\u001b[1;33m(\u001b[0m\u001b[0mpath\u001b[0m\u001b[1;33m(\u001b[0m\u001b[0mname\u001b[0m\u001b[1;33m)\u001b[0m\u001b[1;33m,\u001b[0m \u001b[0mcompression\u001b[0m \u001b[1;33m=\u001b[0m \u001b[1;34m'gzip'\u001b[0m\u001b[1;33m,\u001b[0m \u001b[0musecols\u001b[0m \u001b[1;33m=\u001b[0m \u001b[0mtag_gas\u001b[0m\u001b[1;33m)\u001b[0m\u001b[1;33m\u001b[0m\u001b[1;33m\u001b[0m\u001b[0m\n\u001b[0m\u001b[0;32m      3\u001b[0m \u001b[1;31m# , skiprows=SKIPING)\u001b[0m\u001b[1;33m\u001b[0m\u001b[1;33m\u001b[0m\u001b[1;33m\u001b[0m\u001b[0m\n\u001b[0;32m      4\u001b[0m \u001b[0mdf_gas\u001b[0m\u001b[1;33m[\u001b[0m\u001b[1;34m'Date'\u001b[0m\u001b[1;33m]\u001b[0m \u001b[1;33m=\u001b[0m \u001b[0mpd\u001b[0m\u001b[1;33m.\u001b[0m\u001b[0mto_datetime\u001b[0m\u001b[1;33m(\u001b[0m\u001b[0mdf_gas\u001b[0m\u001b[1;33m[\u001b[0m\u001b[1;34m'Date'\u001b[0m\u001b[1;33m]\u001b[0m\u001b[1;33m)\u001b[0m\u001b[1;33m\u001b[0m\u001b[1;33m\u001b[0m\u001b[0m\n\u001b[0;32m      5\u001b[0m \u001b[0mdf_gas\u001b[0m\u001b[1;33m.\u001b[0m\u001b[0mset_index\u001b[0m\u001b[1;33m(\u001b[0m\u001b[1;34m'Date'\u001b[0m\u001b[1;33m,\u001b[0m \u001b[0minplace\u001b[0m \u001b[1;33m=\u001b[0m \u001b[1;32mTrue\u001b[0m\u001b[1;33m)\u001b[0m\u001b[1;33m\u001b[0m\u001b[1;33m\u001b[0m\u001b[0m\n",
      "\u001b[1;32mc:\\users\\eduardo.lima.k2\\appdata\\local\\programs\\python\\python37-32\\lib\\site-packages\\pandas\\io\\parsers.py\u001b[0m in \u001b[0;36mparser_f\u001b[1;34m(filepath_or_buffer, sep, delimiter, header, names, index_col, usecols, squeeze, prefix, mangle_dupe_cols, dtype, engine, converters, true_values, false_values, skipinitialspace, skiprows, skipfooter, nrows, na_values, keep_default_na, na_filter, verbose, skip_blank_lines, parse_dates, infer_datetime_format, keep_date_col, date_parser, dayfirst, iterator, chunksize, compression, thousands, decimal, lineterminator, quotechar, quoting, doublequote, escapechar, comment, encoding, dialect, tupleize_cols, error_bad_lines, warn_bad_lines, delim_whitespace, low_memory, memory_map, float_precision)\u001b[0m\n\u001b[0;32m    700\u001b[0m                     skip_blank_lines=skip_blank_lines)\n\u001b[0;32m    701\u001b[0m \u001b[1;33m\u001b[0m\u001b[0m\n\u001b[1;32m--> 702\u001b[1;33m         \u001b[1;32mreturn\u001b[0m \u001b[0m_read\u001b[0m\u001b[1;33m(\u001b[0m\u001b[0mfilepath_or_buffer\u001b[0m\u001b[1;33m,\u001b[0m \u001b[0mkwds\u001b[0m\u001b[1;33m)\u001b[0m\u001b[1;33m\u001b[0m\u001b[1;33m\u001b[0m\u001b[0m\n\u001b[0m\u001b[0;32m    703\u001b[0m \u001b[1;33m\u001b[0m\u001b[0m\n\u001b[0;32m    704\u001b[0m     \u001b[0mparser_f\u001b[0m\u001b[1;33m.\u001b[0m\u001b[0m__name__\u001b[0m \u001b[1;33m=\u001b[0m \u001b[0mname\u001b[0m\u001b[1;33m\u001b[0m\u001b[1;33m\u001b[0m\u001b[0m\n",
      "\u001b[1;32mc:\\users\\eduardo.lima.k2\\appdata\\local\\programs\\python\\python37-32\\lib\\site-packages\\pandas\\io\\parsers.py\u001b[0m in \u001b[0;36m_read\u001b[1;34m(filepath_or_buffer, kwds)\u001b[0m\n\u001b[0;32m    433\u001b[0m \u001b[1;33m\u001b[0m\u001b[0m\n\u001b[0;32m    434\u001b[0m     \u001b[1;32mtry\u001b[0m\u001b[1;33m:\u001b[0m\u001b[1;33m\u001b[0m\u001b[1;33m\u001b[0m\u001b[0m\n\u001b[1;32m--> 435\u001b[1;33m         \u001b[0mdata\u001b[0m \u001b[1;33m=\u001b[0m \u001b[0mparser\u001b[0m\u001b[1;33m.\u001b[0m\u001b[0mread\u001b[0m\u001b[1;33m(\u001b[0m\u001b[0mnrows\u001b[0m\u001b[1;33m)\u001b[0m\u001b[1;33m\u001b[0m\u001b[1;33m\u001b[0m\u001b[0m\n\u001b[0m\u001b[0;32m    436\u001b[0m     \u001b[1;32mfinally\u001b[0m\u001b[1;33m:\u001b[0m\u001b[1;33m\u001b[0m\u001b[1;33m\u001b[0m\u001b[0m\n\u001b[0;32m    437\u001b[0m         \u001b[0mparser\u001b[0m\u001b[1;33m.\u001b[0m\u001b[0mclose\u001b[0m\u001b[1;33m(\u001b[0m\u001b[1;33m)\u001b[0m\u001b[1;33m\u001b[0m\u001b[1;33m\u001b[0m\u001b[0m\n",
      "\u001b[1;32mc:\\users\\eduardo.lima.k2\\appdata\\local\\programs\\python\\python37-32\\lib\\site-packages\\pandas\\io\\parsers.py\u001b[0m in \u001b[0;36mread\u001b[1;34m(self, nrows)\u001b[0m\n\u001b[0;32m   1152\u001b[0m             \u001b[0mnew_rows\u001b[0m \u001b[1;33m=\u001b[0m \u001b[0mlen\u001b[0m\u001b[1;33m(\u001b[0m\u001b[0mindex\u001b[0m\u001b[1;33m)\u001b[0m\u001b[1;33m\u001b[0m\u001b[1;33m\u001b[0m\u001b[0m\n\u001b[0;32m   1153\u001b[0m \u001b[1;33m\u001b[0m\u001b[0m\n\u001b[1;32m-> 1154\u001b[1;33m         \u001b[0mdf\u001b[0m \u001b[1;33m=\u001b[0m \u001b[0mDataFrame\u001b[0m\u001b[1;33m(\u001b[0m\u001b[0mcol_dict\u001b[0m\u001b[1;33m,\u001b[0m \u001b[0mcolumns\u001b[0m\u001b[1;33m=\u001b[0m\u001b[0mcolumns\u001b[0m\u001b[1;33m,\u001b[0m \u001b[0mindex\u001b[0m\u001b[1;33m=\u001b[0m\u001b[0mindex\u001b[0m\u001b[1;33m)\u001b[0m\u001b[1;33m\u001b[0m\u001b[1;33m\u001b[0m\u001b[0m\n\u001b[0m\u001b[0;32m   1155\u001b[0m \u001b[1;33m\u001b[0m\u001b[0m\n\u001b[0;32m   1156\u001b[0m         \u001b[0mself\u001b[0m\u001b[1;33m.\u001b[0m\u001b[0m_currow\u001b[0m \u001b[1;33m+=\u001b[0m \u001b[0mnew_rows\u001b[0m\u001b[1;33m\u001b[0m\u001b[1;33m\u001b[0m\u001b[0m\n",
      "\u001b[1;32mc:\\users\\eduardo.lima.k2\\appdata\\local\\programs\\python\\python37-32\\lib\\site-packages\\pandas\\core\\frame.py\u001b[0m in \u001b[0;36m__init__\u001b[1;34m(self, data, index, columns, dtype, copy)\u001b[0m\n\u001b[0;32m    390\u001b[0m                                  dtype=dtype, copy=copy)\n\u001b[0;32m    391\u001b[0m         \u001b[1;32melif\u001b[0m \u001b[0misinstance\u001b[0m\u001b[1;33m(\u001b[0m\u001b[0mdata\u001b[0m\u001b[1;33m,\u001b[0m \u001b[0mdict\u001b[0m\u001b[1;33m)\u001b[0m\u001b[1;33m:\u001b[0m\u001b[1;33m\u001b[0m\u001b[1;33m\u001b[0m\u001b[0m\n\u001b[1;32m--> 392\u001b[1;33m             \u001b[0mmgr\u001b[0m \u001b[1;33m=\u001b[0m \u001b[0minit_dict\u001b[0m\u001b[1;33m(\u001b[0m\u001b[0mdata\u001b[0m\u001b[1;33m,\u001b[0m \u001b[0mindex\u001b[0m\u001b[1;33m,\u001b[0m \u001b[0mcolumns\u001b[0m\u001b[1;33m,\u001b[0m \u001b[0mdtype\u001b[0m\u001b[1;33m=\u001b[0m\u001b[0mdtype\u001b[0m\u001b[1;33m)\u001b[0m\u001b[1;33m\u001b[0m\u001b[1;33m\u001b[0m\u001b[0m\n\u001b[0m\u001b[0;32m    393\u001b[0m         \u001b[1;32melif\u001b[0m \u001b[0misinstance\u001b[0m\u001b[1;33m(\u001b[0m\u001b[0mdata\u001b[0m\u001b[1;33m,\u001b[0m \u001b[0mma\u001b[0m\u001b[1;33m.\u001b[0m\u001b[0mMaskedArray\u001b[0m\u001b[1;33m)\u001b[0m\u001b[1;33m:\u001b[0m\u001b[1;33m\u001b[0m\u001b[1;33m\u001b[0m\u001b[0m\n\u001b[0;32m    394\u001b[0m             \u001b[1;32mimport\u001b[0m \u001b[0mnumpy\u001b[0m\u001b[1;33m.\u001b[0m\u001b[0mma\u001b[0m\u001b[1;33m.\u001b[0m\u001b[0mmrecords\u001b[0m \u001b[1;32mas\u001b[0m \u001b[0mmrecords\u001b[0m\u001b[1;33m\u001b[0m\u001b[1;33m\u001b[0m\u001b[0m\n",
      "\u001b[1;32mc:\\users\\eduardo.lima.k2\\appdata\\local\\programs\\python\\python37-32\\lib\\site-packages\\pandas\\core\\internals\\construction.py\u001b[0m in \u001b[0;36minit_dict\u001b[1;34m(data, index, columns, dtype)\u001b[0m\n\u001b[0;32m    210\u001b[0m         \u001b[0marrays\u001b[0m \u001b[1;33m=\u001b[0m \u001b[1;33m[\u001b[0m\u001b[0mdata\u001b[0m\u001b[1;33m[\u001b[0m\u001b[0mk\u001b[0m\u001b[1;33m]\u001b[0m \u001b[1;32mfor\u001b[0m \u001b[0mk\u001b[0m \u001b[1;32min\u001b[0m \u001b[0mkeys\u001b[0m\u001b[1;33m]\u001b[0m\u001b[1;33m\u001b[0m\u001b[1;33m\u001b[0m\u001b[0m\n\u001b[0;32m    211\u001b[0m \u001b[1;33m\u001b[0m\u001b[0m\n\u001b[1;32m--> 212\u001b[1;33m     \u001b[1;32mreturn\u001b[0m \u001b[0marrays_to_mgr\u001b[0m\u001b[1;33m(\u001b[0m\u001b[0marrays\u001b[0m\u001b[1;33m,\u001b[0m \u001b[0mdata_names\u001b[0m\u001b[1;33m,\u001b[0m \u001b[0mindex\u001b[0m\u001b[1;33m,\u001b[0m \u001b[0mcolumns\u001b[0m\u001b[1;33m,\u001b[0m \u001b[0mdtype\u001b[0m\u001b[1;33m=\u001b[0m\u001b[0mdtype\u001b[0m\u001b[1;33m)\u001b[0m\u001b[1;33m\u001b[0m\u001b[1;33m\u001b[0m\u001b[0m\n\u001b[0m\u001b[0;32m    213\u001b[0m \u001b[1;33m\u001b[0m\u001b[0m\n\u001b[0;32m    214\u001b[0m \u001b[1;33m\u001b[0m\u001b[0m\n",
      "\u001b[1;32mc:\\users\\eduardo.lima.k2\\appdata\\local\\programs\\python\\python37-32\\lib\\site-packages\\pandas\\core\\internals\\construction.py\u001b[0m in \u001b[0;36marrays_to_mgr\u001b[1;34m(arrays, arr_names, index, columns, dtype)\u001b[0m\n\u001b[0;32m     59\u001b[0m     \u001b[0maxes\u001b[0m \u001b[1;33m=\u001b[0m \u001b[1;33m[\u001b[0m\u001b[0mensure_index\u001b[0m\u001b[1;33m(\u001b[0m\u001b[0mcolumns\u001b[0m\u001b[1;33m)\u001b[0m\u001b[1;33m,\u001b[0m \u001b[0mindex\u001b[0m\u001b[1;33m]\u001b[0m\u001b[1;33m\u001b[0m\u001b[1;33m\u001b[0m\u001b[0m\n\u001b[0;32m     60\u001b[0m \u001b[1;33m\u001b[0m\u001b[0m\n\u001b[1;32m---> 61\u001b[1;33m     \u001b[1;32mreturn\u001b[0m \u001b[0mcreate_block_manager_from_arrays\u001b[0m\u001b[1;33m(\u001b[0m\u001b[0marrays\u001b[0m\u001b[1;33m,\u001b[0m \u001b[0marr_names\u001b[0m\u001b[1;33m,\u001b[0m \u001b[0maxes\u001b[0m\u001b[1;33m)\u001b[0m\u001b[1;33m\u001b[0m\u001b[1;33m\u001b[0m\u001b[0m\n\u001b[0m\u001b[0;32m     62\u001b[0m \u001b[1;33m\u001b[0m\u001b[0m\n\u001b[0;32m     63\u001b[0m \u001b[1;33m\u001b[0m\u001b[0m\n",
      "\u001b[1;32mc:\\users\\eduardo.lima.k2\\appdata\\local\\programs\\python\\python37-32\\lib\\site-packages\\pandas\\core\\internals\\managers.py\u001b[0m in \u001b[0;36mcreate_block_manager_from_arrays\u001b[1;34m(arrays, names, axes)\u001b[0m\n\u001b[0;32m   1664\u001b[0m \u001b[1;33m\u001b[0m\u001b[0m\n\u001b[0;32m   1665\u001b[0m     \u001b[1;32mtry\u001b[0m\u001b[1;33m:\u001b[0m\u001b[1;33m\u001b[0m\u001b[1;33m\u001b[0m\u001b[0m\n\u001b[1;32m-> 1666\u001b[1;33m         \u001b[0mblocks\u001b[0m \u001b[1;33m=\u001b[0m \u001b[0mform_blocks\u001b[0m\u001b[1;33m(\u001b[0m\u001b[0marrays\u001b[0m\u001b[1;33m,\u001b[0m \u001b[0mnames\u001b[0m\u001b[1;33m,\u001b[0m \u001b[0maxes\u001b[0m\u001b[1;33m)\u001b[0m\u001b[1;33m\u001b[0m\u001b[1;33m\u001b[0m\u001b[0m\n\u001b[0m\u001b[0;32m   1667\u001b[0m         \u001b[0mmgr\u001b[0m \u001b[1;33m=\u001b[0m \u001b[0mBlockManager\u001b[0m\u001b[1;33m(\u001b[0m\u001b[0mblocks\u001b[0m\u001b[1;33m,\u001b[0m \u001b[0maxes\u001b[0m\u001b[1;33m)\u001b[0m\u001b[1;33m\u001b[0m\u001b[1;33m\u001b[0m\u001b[0m\n\u001b[0;32m   1668\u001b[0m         \u001b[0mmgr\u001b[0m\u001b[1;33m.\u001b[0m\u001b[0m_consolidate_inplace\u001b[0m\u001b[1;33m(\u001b[0m\u001b[1;33m)\u001b[0m\u001b[1;33m\u001b[0m\u001b[1;33m\u001b[0m\u001b[0m\n",
      "\u001b[1;32mc:\\users\\eduardo.lima.k2\\appdata\\local\\programs\\python\\python37-32\\lib\\site-packages\\pandas\\core\\internals\\managers.py\u001b[0m in \u001b[0;36mform_blocks\u001b[1;34m(arrays, names, axes)\u001b[0m\n\u001b[0;32m   1720\u001b[0m     \u001b[0mblocks\u001b[0m \u001b[1;33m=\u001b[0m \u001b[1;33m[\u001b[0m\u001b[1;33m]\u001b[0m\u001b[1;33m\u001b[0m\u001b[1;33m\u001b[0m\u001b[0m\n\u001b[0;32m   1721\u001b[0m     \u001b[1;32mif\u001b[0m \u001b[0mlen\u001b[0m\u001b[1;33m(\u001b[0m\u001b[0mitems_dict\u001b[0m\u001b[1;33m[\u001b[0m\u001b[1;34m'FloatBlock'\u001b[0m\u001b[1;33m]\u001b[0m\u001b[1;33m)\u001b[0m\u001b[1;33m:\u001b[0m\u001b[1;33m\u001b[0m\u001b[1;33m\u001b[0m\u001b[0m\n\u001b[1;32m-> 1722\u001b[1;33m         \u001b[0mfloat_blocks\u001b[0m \u001b[1;33m=\u001b[0m \u001b[0m_multi_blockify\u001b[0m\u001b[1;33m(\u001b[0m\u001b[0mitems_dict\u001b[0m\u001b[1;33m[\u001b[0m\u001b[1;34m'FloatBlock'\u001b[0m\u001b[1;33m]\u001b[0m\u001b[1;33m)\u001b[0m\u001b[1;33m\u001b[0m\u001b[1;33m\u001b[0m\u001b[0m\n\u001b[0m\u001b[0;32m   1723\u001b[0m         \u001b[0mblocks\u001b[0m\u001b[1;33m.\u001b[0m\u001b[0mextend\u001b[0m\u001b[1;33m(\u001b[0m\u001b[0mfloat_blocks\u001b[0m\u001b[1;33m)\u001b[0m\u001b[1;33m\u001b[0m\u001b[1;33m\u001b[0m\u001b[0m\n\u001b[0;32m   1724\u001b[0m \u001b[1;33m\u001b[0m\u001b[0m\n",
      "\u001b[1;32mc:\\users\\eduardo.lima.k2\\appdata\\local\\programs\\python\\python37-32\\lib\\site-packages\\pandas\\core\\internals\\managers.py\u001b[0m in \u001b[0;36m_multi_blockify\u001b[1;34m(tuples, dtype)\u001b[0m\n\u001b[0;32m   1817\u001b[0m     \u001b[1;32mfor\u001b[0m \u001b[0mdtype\u001b[0m\u001b[1;33m,\u001b[0m \u001b[0mtup_block\u001b[0m \u001b[1;32min\u001b[0m \u001b[0mgrouper\u001b[0m\u001b[1;33m:\u001b[0m\u001b[1;33m\u001b[0m\u001b[1;33m\u001b[0m\u001b[0m\n\u001b[0;32m   1818\u001b[0m \u001b[1;33m\u001b[0m\u001b[0m\n\u001b[1;32m-> 1819\u001b[1;33m         \u001b[0mvalues\u001b[0m\u001b[1;33m,\u001b[0m \u001b[0mplacement\u001b[0m \u001b[1;33m=\u001b[0m \u001b[0m_stack_arrays\u001b[0m\u001b[1;33m(\u001b[0m\u001b[0mlist\u001b[0m\u001b[1;33m(\u001b[0m\u001b[0mtup_block\u001b[0m\u001b[1;33m)\u001b[0m\u001b[1;33m,\u001b[0m \u001b[0mdtype\u001b[0m\u001b[1;33m)\u001b[0m\u001b[1;33m\u001b[0m\u001b[1;33m\u001b[0m\u001b[0m\n\u001b[0m\u001b[0;32m   1820\u001b[0m \u001b[1;33m\u001b[0m\u001b[0m\n\u001b[0;32m   1821\u001b[0m         \u001b[0mblock\u001b[0m \u001b[1;33m=\u001b[0m \u001b[0mmake_block\u001b[0m\u001b[1;33m(\u001b[0m\u001b[0mvalues\u001b[0m\u001b[1;33m,\u001b[0m \u001b[0mplacement\u001b[0m\u001b[1;33m=\u001b[0m\u001b[0mplacement\u001b[0m\u001b[1;33m)\u001b[0m\u001b[1;33m\u001b[0m\u001b[1;33m\u001b[0m\u001b[0m\n",
      "\u001b[1;32mc:\\users\\eduardo.lima.k2\\appdata\\local\\programs\\python\\python37-32\\lib\\site-packages\\pandas\\core\\internals\\managers.py\u001b[0m in \u001b[0;36m_stack_arrays\u001b[1;34m(tuples, dtype)\u001b[0m\n\u001b[0;32m   1859\u001b[0m     \u001b[0mshape\u001b[0m \u001b[1;33m=\u001b[0m \u001b[1;33m(\u001b[0m\u001b[0mlen\u001b[0m\u001b[1;33m(\u001b[0m\u001b[0marrays\u001b[0m\u001b[1;33m)\u001b[0m\u001b[1;33m,\u001b[0m\u001b[1;33m)\u001b[0m \u001b[1;33m+\u001b[0m \u001b[0m_shape_compat\u001b[0m\u001b[1;33m(\u001b[0m\u001b[0mfirst\u001b[0m\u001b[1;33m)\u001b[0m\u001b[1;33m\u001b[0m\u001b[1;33m\u001b[0m\u001b[0m\n\u001b[0;32m   1860\u001b[0m \u001b[1;33m\u001b[0m\u001b[0m\n\u001b[1;32m-> 1861\u001b[1;33m     \u001b[0mstacked\u001b[0m \u001b[1;33m=\u001b[0m \u001b[0mnp\u001b[0m\u001b[1;33m.\u001b[0m\u001b[0mempty\u001b[0m\u001b[1;33m(\u001b[0m\u001b[0mshape\u001b[0m\u001b[1;33m,\u001b[0m \u001b[0mdtype\u001b[0m\u001b[1;33m=\u001b[0m\u001b[0mdtype\u001b[0m\u001b[1;33m)\u001b[0m\u001b[1;33m\u001b[0m\u001b[1;33m\u001b[0m\u001b[0m\n\u001b[0m\u001b[0;32m   1862\u001b[0m     \u001b[1;32mfor\u001b[0m \u001b[0mi\u001b[0m\u001b[1;33m,\u001b[0m \u001b[0marr\u001b[0m \u001b[1;32min\u001b[0m \u001b[0menumerate\u001b[0m\u001b[1;33m(\u001b[0m\u001b[0marrays\u001b[0m\u001b[1;33m)\u001b[0m\u001b[1;33m:\u001b[0m\u001b[1;33m\u001b[0m\u001b[1;33m\u001b[0m\u001b[0m\n\u001b[0;32m   1863\u001b[0m         \u001b[0mstacked\u001b[0m\u001b[1;33m[\u001b[0m\u001b[0mi\u001b[0m\u001b[1;33m]\u001b[0m \u001b[1;33m=\u001b[0m \u001b[0m_asarray_compat\u001b[0m\u001b[1;33m(\u001b[0m\u001b[0marr\u001b[0m\u001b[1;33m)\u001b[0m\u001b[1;33m\u001b[0m\u001b[1;33m\u001b[0m\u001b[0m\n",
      "\u001b[1;31mMemoryError\u001b[0m: "
     ]
    }
   ],
   "source": [
    "name = 'df_gas.csv.gz'\n",
    "df_gas = pd.read_csv(path(name), compression = 'gzip', usecols = tag_gas)\n",
    "# , skiprows=SKIPING)\n",
    "df_gas['Date'] = pd.to_datetime(df_gas['Date'])\n",
    "df_gas.set_index('Date', inplace = True)"
   ]
  },
  {
   "cell_type": "code",
   "execution_count": null,
   "metadata": {},
   "outputs": [],
   "source": [
    "name = 'df_pressao.csv.gz'\n",
    "df_pressao = pd.read_csv(path(name), compression = 'gzip', usecols = tag_press)\n",
    "# , skiprows=SKIPING)\n",
    "df_pressao['Date'] = pd.to_datetime(df_pressao['Date'])\n",
    "df_pressao.set_index('Date', inplace = True)"
   ]
  },
  {
   "cell_type": "code",
   "execution_count": null,
   "metadata": {},
   "outputs": [],
   "source": [
    "name = 'df_temp.csv.gz'\n",
    "df_temp = pd.read_csv(path(name), compression = 'gzip', usecols = tag_temp)\n",
    "# , skiprows=SKIPING)\n",
    "df_temp['Date'] = pd.to_datetime(df_temp['Date'])\n",
    "df_temp.set_index('Date', inplace = True)"
   ]
  },
  {
   "cell_type": "code",
   "execution_count": null,
   "metadata": {},
   "outputs": [],
   "source": [
    "df_gas.columns = ['Date', 'Eteno', 'Etano', 'Propeno', 'Propano', 'Buteno', 'Butano', 'Hexeno', 'Hexano']"
   ]
  },
  {
   "cell_type": "code",
   "execution_count": null,
   "metadata": {
    "jupyter": {
     "source_hidden": true
    }
   },
   "outputs": [],
   "source": [
    "tipi = pd.concat([df_pressao, df_temp], axis=1, sort=False)"
   ]
  },
  {
   "cell_type": "code",
   "execution_count": null,
   "metadata": {},
   "outputs": [],
   "source": [
    "tipi.head()"
   ]
  },
  {
   "cell_type": "code",
   "execution_count": null,
   "metadata": {},
   "outputs": [],
   "source": [
    "tipi = tipi.rename(columns={\"PI3406.PV\": \"PI3406\", \"PI3417.PV\": \"PI3417\", \"TI3403.PV\": \"TI3403\", \"TI3404.PV\": \"TI3404\", \"TI3409.PV\": \"TI3409\"})\n"
   ]
  },
  {
   "cell_type": "code",
   "execution_count": null,
   "metadata": {},
   "outputs": [],
   "source": [
    "tipi.dropna(axis=0, how='any', inplace=True)"
   ]
  },
  {
   "cell_type": "code",
   "execution_count": null,
   "metadata": {},
   "outputs": [],
   "source": []
  },
  {
   "cell_type": "code",
   "execution_count": null,
   "metadata": {},
   "outputs": [],
   "source": []
  },
  {
   "cell_type": "code",
   "execution_count": null,
   "metadata": {},
   "outputs": [],
   "source": [
    "tipi['PI3406'] = tipi.PI3406/101325 -1\n",
    "tipi['PI3417'] = tipi.PI3417/101325 -1"
   ]
  },
  {
   "cell_type": "code",
   "execution_count": null,
   "metadata": {},
   "outputs": [],
   "source": [
    "#CONVERTENDO AS VARIÁVEIS PARA PASCAL E KELVIN\n",
    "tipi['TI3403'] = tipi.TI3403 + 273.15\n",
    "tipi['TI3404'] = tipi.TI3404 + 273.15\n",
    "tipi['TI3409'] = tipi.TI3409 + 273.15\n",
    "\n",
    "\n",
    "tipi['PI3406'] = (tipi.PI3406 + 1.01325)*100000\n",
    "tipi['PI3417'] = (tipi.PI3417 + 1.01325)*100000 "
   ]
  },
  {
   "cell_type": "code",
   "execution_count": null,
   "metadata": {},
   "outputs": [],
   "source": [
    "eteno = Chemical('ethylene')\n",
    "etano = Chemical('ethane')\n",
    "propeno = Chemical('propene')\n",
    "propano = Chemical('propane')\n",
    "buteno = Chemical('butene')\n",
    "butano = Chemical('butane')\n",
    "hexeno = Chemical('1-hexene')\n",
    "hexano = Chemical('hexane')\n",
    "\n",
    "tags = [eteno, etano, propeno, propano, buteno, butano, hexeno, hexano]\n",
    "\n",
    "   \n",
    "dados = pd.DataFrame(get_parameters(tags))"
   ]
  },
  {
   "cell_type": "code",
   "execution_count": null,
   "metadata": {},
   "outputs": [],
   "source": [
    "dados"
   ]
  },
  {
   "cell_type": "code",
   "execution_count": null,
   "metadata": {},
   "outputs": [],
   "source": [
    "data_segundo_estagio = list(dados_compressor(segundo_estagio).values())"
   ]
  },
  {
   "cell_type": "code",
   "execution_count": null,
   "metadata": {},
   "outputs": [],
   "source": [
    "data_segundo_estagio"
   ]
  },
  {
   "cell_type": "code",
   "execution_count": null,
   "metadata": {},
   "outputs": [],
   "source": [
    "def recorrencia(comp, tempress, dados, dataSheetComp, tags_suc, tags_desc):\n",
    "\n",
    "    EOS_INFO = pd.DataFrame(data = tempress.index)\n",
    "    \n",
    "    EOS_INFO['efPOLI'] = np.nan\n",
    "    EOS_INFO['headPOLI'] = np.nan\n",
    "\n",
    "    EOS_INFO['efISEN'] = np.nan\n",
    "    EOS_INFO['headISEN'] = np.nan\n",
    "\n",
    "    EOS_INFO['Zsuc'] = np.nan\n",
    "    EOS_INFO['Zdesc'] = np.nan\n",
    "\n",
    "    EOS_INFO.apply(pd.to_numeric)\n",
    "    \n",
    "    \n",
    "    for i in range(len(tempress)):\n",
    "        Tsys = [tempress[tags_suc[0]][i], tempress[tags_desc[0]][i]]\n",
    "        Psys = [tempress[tags_suc[1]][i], tempress[tags_desc[1]][i]]\n",
    "        zs = comp.iloc[i].values / 100\n",
    "        TEMP = eos_estagios(zs, Tsys, Psys, dados, dataSheetComp)\n",
    "\n",
    "        #print(TEMP)\n",
    "\n",
    "        EOS_INFO.efPOLI.iloc[i] = TEMP[0]\n",
    "        EOS_INFO.headPOLI.iloc[i] = TEMP[1]\n",
    "\n",
    "        EOS_INFO.efISEN.iloc[i] = TEMP[2]\n",
    "        EOS_INFO.headISEN.iloc[i] = TEMP[3]\n",
    "\n",
    "        EOS_INFO.Zsuc.iloc[i] = TEMP[4]\n",
    "        EOS_INFO.Zdesc.iloc[i] = TEMP[5]\n",
    "        \n",
    "    return EOS_INFO\n",
    "\n",
    "\n",
    "def eos_estagios(comp, Tsys, Psys, dados, dataSheetComp):\n",
    "    EOS_2oSUC = EOS_MIX(comp, dados, Tsys[0], Psys[0])\n",
    "    EOS_2oDESC = EOS_MIX(comp, dados, Tsys[1], Psys[1])\n",
    "    return(consolida_value_estagio)(EOS_2oSUC, EOS_2oDESC, Tsys, Psys, dataSheetComp)\n",
    "\n",
    "\n",
    "\n",
    "def EOS_MIX(comp, dadosDf, Tsys, Psys):\n",
    "    EOS = SRKMIX(Tcs = list(dadosDf.Tcs),\n",
    "                  Pcs = list(dadosDf.Pcs), \n",
    "                  omegas = list(dadosDf.omegas), \n",
    "                  zs = comp, \n",
    "                  T=Tsys, \n",
    "                  P=Psys )\n",
    "    Z_EOS = (Psys*EOS.V_g)/(8.31447*Tsys)\n",
    "    mwAVG = np.sum(comp * dadosDf.MW)\n",
    "    densidade = (mwAVG*1E-3)/EOS.V_g\n",
    "    cp_Real = np.sum(dadosDf.Cp_g_ID * comp) + EOS.Cp_dep_g\n",
    "    cv_Real = np.sum(dadosDf.Cv_g_ID * comp) + EOS.Cv_dep_g\n",
    "    k = cp_Real/ cv_Real\n",
    "    return [Z_EOS, mwAVG, densidade, EOS.V_g, k]\n"
   ]
  },
  {
   "cell_type": "code",
   "execution_count": null,
   "metadata": {},
   "outputs": [],
   "source": [
    "def kgfMAN(P):\n",
    "    Pvem = P/98066.5 \n",
    "    return Pvem\n",
    "\n",
    "def kgfABS(P):\n",
    "    Pvem = P/98066.5 + 1.03323\n",
    "    return Pvem\n",
    "\n",
    "\n",
    "def consolida_value_estagio(EOS_2oSUC, EOS_2oDESC, Tsys, Psys, dataSheetComp):\n",
    "    massaEspecifica =  EOS_2oSUC[2]          #SAIDA PARA A PROXIMA FUNÇÃO --> MASSA ESPECIFICA\n",
    "    \n",
    "    Zsuc = EOS_2oSUC[0]                       #SAIDA PARA A PROXIMA FUNÇÃO --> ZSUC\n",
    "    Zdesc = EOS_2oDESC[0]                     #SAIDA PARA A PROXIMA FUNÇÃO --> ZDESC\n",
    "    \n",
    "    PsucMAN = kgfMAN(Psys[0])                 #SAIDA PARA A PROXIMA FUNÇÃO --> PSUCMAN\n",
    "    PdescMAN = kgfMAN(Psys[1])                #SAIDA PARA A PROXIMA FUNÇÃO --> PDESCMAN\n",
    "    \n",
    "    PsucABS = kgfABS(Psys[0])                 #SAIDA PARA A PROXIMA FUNÇÃO --> PSUCABS\n",
    "    PdescABS = kgfABS(Psys[1])                #SAIDA PARA A PROXIMA FUNÇÃO --> PDESCABS\n",
    "    \n",
    " \n",
    "\n",
    "   \n",
    "\n",
    "    r = PdescABS/PsucABS                      #SAIDA PARA A PROXIMA FUNÇÃO --> R\n",
    "    \n",
    "    # print(r)\n",
    "\n",
    "    k_2oSUC = EOS_2oSUC[4]\n",
    "    k_2oDESC = EOS_2oDESC[4]\n",
    "   \n",
    "\n",
    "    # k = (k_2oSUC + k_2oDESC)/2 \n",
    "    k = 1.179041\n",
    "\n",
    "    Tsuc = Tsys[0]                                #SAIDA PARA A PROXIMA FUNÇÃO --> Tsuc\n",
    "    Tdesc = Tsys[1]\n",
    "    \n",
    "\n",
    "\n",
    "    TdescI2o =((r**((k-1)/k))*(Tsuc))\n",
    "\n",
    "    efVol = eficiencia_vol(dataSheetComp, Zsuc, Zdesc, k, r)\n",
    "\n",
    "\n",
    "    vazMass = vazao_vol(efVol, dataSheetComp, massaEspecifica)\n",
    "    \n",
    "    efAdiab = eficiencia_adia_isental(Tdesc, r, Tsuc, k)\n",
    "\n",
    "    headAdia = head_adia(k, Zsuc, Zdesc, EOS_2oDESC, r, Tsuc)\n",
    "  \n",
    "    potComp = potencia_comp(vazMass, headAdia, efAdiab)\n",
    "   \n",
    "    ef_poli = eficiencia_politropica(k, r, Tsuc, Tdesc)\n",
    " \n",
    "    MW = EOS_2oSUC[1]\n",
    "  \n",
    "    headPoli = head_poli(k, Zsuc, Zdesc, MW, Tsuc, ef_poli, r)\n",
    "\n",
    "    potPoli = potencia_comp_poli(vazMass, headPoli, ef_poli)\n",
    "\n",
    "\n",
    "\n",
    "    POTENCIA_POLI = potencia_eixo(potPoli)\n",
    "    POTENCIA_ISEN = potencia_eixo(potComp)\n",
    "\n",
    "\n",
    "    resultado = [ef_poli, headPoli, efAdiab, headAdia, Zsuc, Zdesc]\n",
    "\n",
    "    return resultado\n",
    "\n",
    "def eficiencia_politropica(k, r, Tsuc, Tdesc):\n",
    "    # ef1oSTG = ((k[0]-1)/k[0])*math.log(r[0])*100/math.log((Tdesc[0]+273.15)/(Tsuc[0]+273.15))\n",
    "    # ef2oSTG = ((k[1]-1)/k[1])*math.log(r[1])*100/math.log((Tdesc[1]+273.15)/(Tsuc[1]+273.15))\n",
    "    ef2oSTG = ((k-1)/k)*math.log(r)*100/math.log((Tdesc)/(Tsuc))\n",
    "    return ef2oSTG\n",
    "\n",
    "def head_poli(k, Zsuc, Zdesc, MW, Tsuc, ef_poli, r):\n",
    "    head2 = (k/(k-1))*((Zsuc+Zdesc)/2)*(8.31447/MW)*(Tsuc)*(ef_poli/100)*((r**(((k-1)/k)*(100/ef_poli)))-1)\n",
    "    return head2\n",
    "\n",
    "\n",
    "def potencia_comp_poli(vazMass, headPoli, ef_poli):\n",
    "    potSTG1 = (vazMass/3600)*headPoli/(ef_poli*0.01)\n",
    "    return potSTG1\n",
    "\n",
    "\n",
    "\n",
    "def eficiencia_vol(dataSheetComp, Zsuc, Zdesc, k, r):\n",
    "    vazamento = 0.07\n",
    "\n",
    "    efVol1oSTG = (0.97-(dataSheetComp[6]/100)*((Zsuc/Zdesc)*r**(1/k)-1)-vazamento)*100\n",
    "    efVol = efVol1oSTG\n",
    "    return efVol\n",
    "\n",
    "def vazao_vol(efVol, dataSheetComp,massaEspecifica):\n",
    "    vazVol1stSTG = (efVol/100)*dataSheetComp[8]*dataSheetComp[7]*60\n",
    "    vazVol = vazVol1stSTG                                               #SAIDA DE VAZÃO VOLUMETRICA\n",
    "\n",
    "    vazMass = vazVol*massaEspecifica                #SAIDA DE VAZAO MASSICA\n",
    "\n",
    "    vazVolPad2oSTG = vazMass/(101.325*massaEspecifica/(8.31447*273.15))\n",
    "    vazVolPad = vazVolPad2oSTG                                          #SAIDA DE VAZÃO VOLUMETRICA PADRÃO\n",
    "\n",
    "    return vazMass\n",
    "\n",
    "def eficiencia_adia_isental(Tdesc, r, Tsuc, k):\n",
    "    efAdiab2oSTG = ((Tsuc)/(Tdesc-Tsuc))*(r**((k-1)/k)-1)*100\n",
    "    efAdiab = efAdiab2oSTG\n",
    "    return efAdiab\n",
    "\n",
    "def head_adia(k, Zsuc, Zdesc,  EOS_2oDESC, r, Tsuc):\n",
    "    headAdia2oSTG = (k/(k-1))*((Zsuc+Zdesc)/2)*(8.31447/EOS_2oDESC[1])*(Tsuc)*((r**((k-1)/k))-1)\n",
    "    headAdia = headAdia2oSTG\n",
    "    return headAdia\n",
    "\n",
    "def potencia_comp(vazMass, headAdia, efAdiab):\n",
    "    potComp2oSTG = (vazMass/3600)*headAdia/(efAdiab*0.01)\n",
    "    potComp = potComp2oSTG\n",
    "    return  potComp\n",
    "\n",
    "def potencia_eixo(potComp):\n",
    "    mecEf = 73\n",
    "    potEixo2oSTG=potComp/(mecEf*0.01)\n",
    "    POTENCIA = potEixo2oSTG\n",
    "    return POTENCIA\n",
    "\n"
   ]
  },
  {
   "cell_type": "code",
   "execution_count": null,
   "metadata": {},
   "outputs": [],
   "source": [
    "tags_suc = ['TI3409','PI3417']    \n",
    "tags_desc = ['TI3404', 'PI3406']\n",
    "\n",
    "result = recorrencia(df_gas.dropna().head(100), tipi.dropna().head(100), dados, data_segundo_estagio, tags_suc,tags_desc)\n",
    "result"
   ]
  },
  {
   "cell_type": "code",
   "execution_count": null,
   "metadata": {},
   "outputs": [],
   "source": [
    "tags_suc = ['TI3409','PI3417']    \n",
    "tags_desc = ['TI3404', 'PI3406']\n",
    "\n",
    "result = recorrencia(df_gas.dropna().head(1000), tipi.dropna().head(1000), dados, data_segundo_estagio, tags_suc,tags_desc)\n",
    "result"
   ]
  },
  {
   "cell_type": "code",
   "execution_count": null,
   "metadata": {},
   "outputs": [],
   "source": [
    "tags_suc = ['TI3409','PI3417']    \n",
    "tags_desc = ['TI3404', 'PI3406']\n",
    "\n",
    "result = recorrencia(df_gas.dropna(), tipi.dropna(), dados, data_segundo_estagio, tags_suc,tags_desc)\n",
    "result"
   ]
  },
  {
   "cell_type": "code",
   "execution_count": null,
   "metadata": {},
   "outputs": [],
   "source": [
    "tipi['TI3409'][tipi['TI3409'] < 1]"
   ]
  },
  {
   "cell_type": "code",
   "execution_count": null,
   "metadata": {},
   "outputs": [],
   "source": [
    "tipi.dropna()"
   ]
  },
  {
   "cell_type": "code",
   "execution_count": null,
   "metadata": {},
   "outputs": [],
   "source": []
  }
 ],
 "metadata": {
  "kernelspec": {
   "display_name": "Python 3",
   "language": "python",
   "name": "python3"
  },
  "language_info": {
   "codemirror_mode": {
    "name": "ipython",
    "version": 3
   },
   "file_extension": ".py",
   "mimetype": "text/x-python",
   "name": "python",
   "nbconvert_exporter": "python",
   "pygments_lexer": "ipython3",
   "version": "3.7.4"
  }
 },
 "nbformat": 4,
 "nbformat_minor": 4
}
