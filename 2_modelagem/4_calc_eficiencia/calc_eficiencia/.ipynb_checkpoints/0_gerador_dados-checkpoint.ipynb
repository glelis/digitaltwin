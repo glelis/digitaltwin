{
 "cells": [
  {
   "cell_type": "code",
   "execution_count": 1,
   "metadata": {},
   "outputs": [],
   "source": [
    "import pandas as pd\n",
    "import numpy as np\n",
    "import matplotlib.pyplot as plt\n",
    "import seaborn as sns\n",
    "import os\n",
    "\n",
    "%run ..\\..\\..\\..\\funcoes_base_global\\funcoes_plot.py"
   ]
  },
  {
   "cell_type": "code",
   "execution_count": 2,
   "metadata": {},
   "outputs": [],
   "source": [
    "input_path  = os.path.join('..','..','1_preprocessamento','out','')\n",
    "output_path = os.path.join('out','')\n",
    "if not os.path.exists(output_path): \n",
    "    os.mkdir(output_path)"
   ]
  },
  {
   "cell_type": "code",
   "execution_count": 23,
   "metadata": {},
   "outputs": [],
   "source": [
    "tag_press = ['Date','PI3417.PV', 'PI3406.PV']\n",
    "\n",
    "tag_temp = ['Date', 'Temp_Suc_2', 'Temp_Desc_2']\n",
    "\n",
    "tag_gas = [ 'Date',\n",
    "            'AI25121.PV',\n",
    "            'AI25131.PV',\n",
    "            'AI25141.PV',\n",
    "            'AI25151.PV',\n",
    "            'AI25161.PV',\n",
    "            'AI25171.PV',\n",
    "            'AI25181.PV',\n",
    "            'AI25191.PV']"
   ]
  },
  {
   "cell_type": "code",
   "execution_count": 27,
   "metadata": {},
   "outputs": [
    {
     "data": {
      "text/html": [
       "<div>\n",
       "<style scoped>\n",
       "    .dataframe tbody tr th:only-of-type {\n",
       "        vertical-align: middle;\n",
       "    }\n",
       "\n",
       "    .dataframe tbody tr th {\n",
       "        vertical-align: top;\n",
       "    }\n",
       "\n",
       "    .dataframe thead th {\n",
       "        text-align: right;\n",
       "    }\n",
       "</style>\n",
       "<table border=\"1\" class=\"dataframe\">\n",
       "  <thead>\n",
       "    <tr style=\"text-align: right;\">\n",
       "      <th></th>\n",
       "      <th>Temp_Suc_2</th>\n",
       "      <th>Temp_Desc_2</th>\n",
       "    </tr>\n",
       "    <tr>\n",
       "      <th>Date</th>\n",
       "      <th></th>\n",
       "      <th></th>\n",
       "    </tr>\n",
       "  </thead>\n",
       "  <tbody>\n",
       "    <tr>\n",
       "      <th>2009-01-12 10:52:00</th>\n",
       "      <td>NaN</td>\n",
       "      <td>NaN</td>\n",
       "    </tr>\n",
       "    <tr>\n",
       "      <th>2009-01-12 10:53:00</th>\n",
       "      <td>NaN</td>\n",
       "      <td>NaN</td>\n",
       "    </tr>\n",
       "    <tr>\n",
       "      <th>2009-01-12 10:54:00</th>\n",
       "      <td>NaN</td>\n",
       "      <td>NaN</td>\n",
       "    </tr>\n",
       "    <tr>\n",
       "      <th>2009-01-12 10:55:00</th>\n",
       "      <td>NaN</td>\n",
       "      <td>NaN</td>\n",
       "    </tr>\n",
       "    <tr>\n",
       "      <th>2009-01-12 10:56:00</th>\n",
       "      <td>NaN</td>\n",
       "      <td>NaN</td>\n",
       "    </tr>\n",
       "  </tbody>\n",
       "</table>\n",
       "</div>"
      ],
      "text/plain": [
       "                     Temp_Suc_2  Temp_Desc_2\n",
       "Date                                        \n",
       "2009-01-12 10:52:00         NaN          NaN\n",
       "2009-01-12 10:53:00         NaN          NaN\n",
       "2009-01-12 10:54:00         NaN          NaN\n",
       "2009-01-12 10:55:00         NaN          NaN\n",
       "2009-01-12 10:56:00         NaN          NaN"
      ]
     },
     "execution_count": 27,
     "metadata": {},
     "output_type": "execute_result"
    }
   ],
   "source": [
    "df_temp = pd.read_csv(input_path+'df_temp_tratada.csv.gz', compression = 'gzip', parse_dates = ['Date'], index_col = 'Date', usecols = tag_temp)\n",
    "df_temp.head()"
   ]
  },
  {
   "cell_type": "code",
   "execution_count": 28,
   "metadata": {},
   "outputs": [
    {
     "data": {
      "text/html": [
       "<div>\n",
       "<style scoped>\n",
       "    .dataframe tbody tr th:only-of-type {\n",
       "        vertical-align: middle;\n",
       "    }\n",
       "\n",
       "    .dataframe tbody tr th {\n",
       "        vertical-align: top;\n",
       "    }\n",
       "\n",
       "    .dataframe thead th {\n",
       "        text-align: right;\n",
       "    }\n",
       "</style>\n",
       "<table border=\"1\" class=\"dataframe\">\n",
       "  <thead>\n",
       "    <tr style=\"text-align: right;\">\n",
       "      <th></th>\n",
       "      <th>AI25121.PV</th>\n",
       "      <th>AI25131.PV</th>\n",
       "      <th>AI25141.PV</th>\n",
       "      <th>AI25151.PV</th>\n",
       "      <th>AI25161.PV</th>\n",
       "      <th>AI25171.PV</th>\n",
       "      <th>AI25181.PV</th>\n",
       "      <th>AI25191.PV</th>\n",
       "    </tr>\n",
       "    <tr>\n",
       "      <th>Date</th>\n",
       "      <th></th>\n",
       "      <th></th>\n",
       "      <th></th>\n",
       "      <th></th>\n",
       "      <th></th>\n",
       "      <th></th>\n",
       "      <th></th>\n",
       "      <th></th>\n",
       "    </tr>\n",
       "  </thead>\n",
       "  <tbody>\n",
       "    <tr>\n",
       "      <th>2009-01-10 14:38:00</th>\n",
       "      <td>6.574</td>\n",
       "      <td>2.172</td>\n",
       "      <td>0.049</td>\n",
       "      <td>6.989</td>\n",
       "      <td>0.421</td>\n",
       "      <td>0.175</td>\n",
       "      <td>0.014</td>\n",
       "      <td>0.0</td>\n",
       "    </tr>\n",
       "    <tr>\n",
       "      <th>2009-01-10 14:39:00</th>\n",
       "      <td>2.857</td>\n",
       "      <td>0.949</td>\n",
       "      <td>0.006</td>\n",
       "      <td>1.059</td>\n",
       "      <td>0.063</td>\n",
       "      <td>0.021</td>\n",
       "      <td>0.007</td>\n",
       "      <td>0.0</td>\n",
       "    </tr>\n",
       "    <tr>\n",
       "      <th>2009-01-10 14:40:00</th>\n",
       "      <td>2.857</td>\n",
       "      <td>0.949</td>\n",
       "      <td>0.006</td>\n",
       "      <td>1.059</td>\n",
       "      <td>0.063</td>\n",
       "      <td>0.021</td>\n",
       "      <td>0.000</td>\n",
       "      <td>0.0</td>\n",
       "    </tr>\n",
       "    <tr>\n",
       "      <th>2009-01-10 14:41:00</th>\n",
       "      <td>2.857</td>\n",
       "      <td>0.949</td>\n",
       "      <td>0.006</td>\n",
       "      <td>1.059</td>\n",
       "      <td>0.063</td>\n",
       "      <td>0.021</td>\n",
       "      <td>0.000</td>\n",
       "      <td>0.0</td>\n",
       "    </tr>\n",
       "    <tr>\n",
       "      <th>2009-01-10 14:42:00</th>\n",
       "      <td>2.857</td>\n",
       "      <td>0.949</td>\n",
       "      <td>0.006</td>\n",
       "      <td>1.059</td>\n",
       "      <td>0.063</td>\n",
       "      <td>0.021</td>\n",
       "      <td>0.000</td>\n",
       "      <td>0.0</td>\n",
       "    </tr>\n",
       "  </tbody>\n",
       "</table>\n",
       "</div>"
      ],
      "text/plain": [
       "                     AI25121.PV  AI25131.PV  AI25141.PV  AI25151.PV  \\\n",
       "Date                                                                  \n",
       "2009-01-10 14:38:00       6.574       2.172       0.049       6.989   \n",
       "2009-01-10 14:39:00       2.857       0.949       0.006       1.059   \n",
       "2009-01-10 14:40:00       2.857       0.949       0.006       1.059   \n",
       "2009-01-10 14:41:00       2.857       0.949       0.006       1.059   \n",
       "2009-01-10 14:42:00       2.857       0.949       0.006       1.059   \n",
       "\n",
       "                     AI25161.PV  AI25171.PV  AI25181.PV  AI25191.PV  \n",
       "Date                                                                 \n",
       "2009-01-10 14:38:00       0.421       0.175       0.014         0.0  \n",
       "2009-01-10 14:39:00       0.063       0.021       0.007         0.0  \n",
       "2009-01-10 14:40:00       0.063       0.021       0.000         0.0  \n",
       "2009-01-10 14:41:00       0.063       0.021       0.000         0.0  \n",
       "2009-01-10 14:42:00       0.063       0.021       0.000         0.0  "
      ]
     },
     "execution_count": 28,
     "metadata": {},
     "output_type": "execute_result"
    }
   ],
   "source": [
    "df_gas = pd.read_csv('..\\\\..\\\\2_exploracao_e_visualizacao\\\\out\\\\df_gas_filtrada.csv.gz', compression = 'gzip', parse_dates = ['Date'], index_col = 'Date', usecols = tag_gas)\n",
    "df_gas.head()"
   ]
  },
  {
   "cell_type": "code",
   "execution_count": 29,
   "metadata": {},
   "outputs": [
    {
     "data": {
      "text/html": [
       "<div>\n",
       "<style scoped>\n",
       "    .dataframe tbody tr th:only-of-type {\n",
       "        vertical-align: middle;\n",
       "    }\n",
       "\n",
       "    .dataframe tbody tr th {\n",
       "        vertical-align: top;\n",
       "    }\n",
       "\n",
       "    .dataframe thead th {\n",
       "        text-align: right;\n",
       "    }\n",
       "</style>\n",
       "<table border=\"1\" class=\"dataframe\">\n",
       "  <thead>\n",
       "    <tr style=\"text-align: right;\">\n",
       "      <th></th>\n",
       "      <th>PI3406.PV</th>\n",
       "      <th>PI3417.PV</th>\n",
       "    </tr>\n",
       "    <tr>\n",
       "      <th>Date</th>\n",
       "      <th></th>\n",
       "      <th></th>\n",
       "    </tr>\n",
       "  </thead>\n",
       "  <tbody>\n",
       "    <tr>\n",
       "      <th>2015-01-06 04:56:00</th>\n",
       "      <td>8.257</td>\n",
       "      <td>2.833</td>\n",
       "    </tr>\n",
       "    <tr>\n",
       "      <th>2015-01-06 04:57:00</th>\n",
       "      <td>14.159</td>\n",
       "      <td>4.379</td>\n",
       "    </tr>\n",
       "    <tr>\n",
       "      <th>2015-01-06 04:58:00</th>\n",
       "      <td>14.699</td>\n",
       "      <td>4.353</td>\n",
       "    </tr>\n",
       "    <tr>\n",
       "      <th>2015-01-06 04:59:00</th>\n",
       "      <td>14.565</td>\n",
       "      <td>4.432</td>\n",
       "    </tr>\n",
       "    <tr>\n",
       "      <th>2015-01-06 05:00:00</th>\n",
       "      <td>14.467</td>\n",
       "      <td>4.475</td>\n",
       "    </tr>\n",
       "  </tbody>\n",
       "</table>\n",
       "</div>"
      ],
      "text/plain": [
       "                     PI3406.PV  PI3417.PV\n",
       "Date                                     \n",
       "2015-01-06 04:56:00      8.257      2.833\n",
       "2015-01-06 04:57:00     14.159      4.379\n",
       "2015-01-06 04:58:00     14.699      4.353\n",
       "2015-01-06 04:59:00     14.565      4.432\n",
       "2015-01-06 05:00:00     14.467      4.475"
      ]
     },
     "execution_count": 29,
     "metadata": {},
     "output_type": "execute_result"
    }
   ],
   "source": [
    "df_pressao = pd.read_csv('..\\\\..\\\\2_exploracao_e_visualizacao\\\\out\\\\df_pressao_filtrada.csv.gz', compression = 'gzip', parse_dates = ['Date'], index_col = 'Date', usecols= tag_press)\n",
    "df_pres.head()"
   ]
  },
  {
   "cell_type": "code",
   "execution_count": 36,
   "metadata": {},
   "outputs": [],
   "source": [
    "df_gas.columns = ['Eteno', 'Etano', 'Propeno', 'Propano', 'Buteno', 'Butano', 'Hexeno', 'Hexano']\n",
    "df_pressao.columns = ['Pres_Desc_2', 'Pres_Suc_2']\n",
    "\n",
    "df = pd.concat([df_gas, df_pressao, df_temp], axis=1, sort=False)\n",
    "df = df.dropna()"
   ]
  },
  {
   "cell_type": "code",
   "execution_count": 2,
   "metadata": {},
   "outputs": [
    {
     "ename": "NameError",
     "evalue": "name 'df' is not defined",
     "output_type": "error",
     "traceback": [
      "\u001b[1;31m---------------------------------------------------------------------------\u001b[0m",
      "\u001b[1;31mNameError\u001b[0m                                 Traceback (most recent call last)",
      "\u001b[1;32m<ipython-input-2-c42a15b2c7cf>\u001b[0m in \u001b[0;36m<module>\u001b[1;34m\u001b[0m\n\u001b[1;32m----> 1\u001b[1;33m \u001b[0mdf\u001b[0m\u001b[1;33m.\u001b[0m\u001b[0mhead\u001b[0m\u001b[1;33m(\u001b[0m\u001b[1;33m)\u001b[0m\u001b[1;33m\u001b[0m\u001b[1;33m\u001b[0m\u001b[0m\n\u001b[0m",
      "\u001b[1;31mNameError\u001b[0m: name 'df' is not defined"
     ]
    }
   ],
   "source": [
    "df.head()"
   ]
  },
  {
   "cell_type": "code",
   "execution_count": 38,
   "metadata": {},
   "outputs": [],
   "source": [
    "df.to_csv(output_path+'df_filtrado.csv.gz', compression = 'gzip')"
   ]
  },
  {
   "cell_type": "code",
   "execution_count": null,
   "metadata": {},
   "outputs": [],
   "source": []
  }
 ],
 "metadata": {
  "kernelspec": {
   "display_name": "Python 3",
   "language": "python",
   "name": "python3"
  },
  "language_info": {
   "codemirror_mode": {
    "name": "ipython",
    "version": 3
   },
   "file_extension": ".py",
   "mimetype": "text/x-python",
   "name": "python",
   "nbconvert_exporter": "python",
   "pygments_lexer": "ipython3",
   "version": "3.7.3"
  }
 },
 "nbformat": 4,
 "nbformat_minor": 2
}
