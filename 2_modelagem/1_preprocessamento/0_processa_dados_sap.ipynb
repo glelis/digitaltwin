{
 "cells": [
  {
   "cell_type": "markdown",
   "metadata": {},
   "source": [
    "## 1.1. SAP"
   ]
  },
  {
   "cell_type": "markdown",
   "metadata": {},
   "source": [
    "Objetivo desse notebook é ler os dados do SAP e armazená-los."
   ]
  },
  {
   "cell_type": "code",
   "execution_count": 4,
   "metadata": {},
   "outputs": [],
   "source": [
    "import pandas as pd\n",
    "import os"
   ]
  },
  {
   "cell_type": "markdown",
   "metadata": {},
   "source": [
    "### 1. Definindo de funções auxiliadoras"
   ]
  },
  {
   "cell_type": "code",
   "execution_count": 5,
   "metadata": {},
   "outputs": [],
   "source": [
    "def path(name):\n",
    "    path = os.path.join('..','..','1_dados_raw','SAP',name)\n",
    "    return(path)\n",
    "\n",
    "def path_out(name):\n",
    "    path = os.path.join('out',name)\n",
    "    return(path)"
   ]
  },
  {
   "cell_type": "code",
   "execution_count": 6,
   "metadata": {},
   "outputs": [],
   "source": [
    "name = 'Compressor alternativo_IW29.csv'\n",
    "data =  pd.read_csv(path(name), sep=';')"
   ]
  },
  {
   "cell_type": "code",
   "execution_count": 7,
   "metadata": {},
   "outputs": [],
   "source": [
    "# setando o compressor que estamos analisando\n",
    "data = data[data['LocInstal'].str.contains('302A')]"
   ]
  },
  {
   "cell_type": "code",
   "execution_count": 8,
   "metadata": {},
   "outputs": [],
   "source": [
    "# organizando dataframe\n",
    "data.Data = pd.to_datetime(data['Data'],format = '%d.%m.%Y')\n",
    "data.Encerram = pd.to_datetime(data.Encerram, format = '%d.%m.%Y')\n",
    "data.index = data.Data\n",
    "data = data.sort_index(ascending=True)\n",
    "data['tempo_execucao'] = data.Encerram - data.Data "
   ]
  },
  {
   "cell_type": "code",
   "execution_count": 9,
   "metadata": {},
   "outputs": [],
   "source": [
    "#z8 -> manutencao preventiva\n",
    "#data = data.drop(['Iníc desej','Concldesj','Ordem','Notificador','LocInstal'], axis = 1)[data.Tp != 'Z8']"
   ]
  },
  {
   "cell_type": "code",
   "execution_count": 10,
   "metadata": {},
   "outputs": [],
   "source": [
    "#export excel\n",
    "name = 'dados_sap_out.xlsx'\n",
    "data.to_excel(path_out(name))"
   ]
  },
  {
   "cell_type": "code",
   "execution_count": 11,
   "metadata": {},
   "outputs": [],
   "source": [
    "#export csv\n",
    "name = 'dados_sap_out.csv'\n",
    "data.to_csv(path_out(name))"
   ]
  },
  {
   "cell_type": "code",
   "execution_count": null,
   "metadata": {},
   "outputs": [],
   "source": []
  }
 ],
 "metadata": {
  "kernelspec": {
   "display_name": "Python 3",
   "language": "python",
   "name": "python3"
  },
  "language_info": {
   "codemirror_mode": {
    "name": "ipython",
    "version": 3
   },
   "file_extension": ".py",
   "mimetype": "text/x-python",
   "name": "python",
   "nbconvert_exporter": "python",
   "pygments_lexer": "ipython3",
   "version": "3.7.3"
  }
 },
 "nbformat": 4,
 "nbformat_minor": 4
}
