{
 "cells": [
  {
   "cell_type": "code",
   "execution_count": 127,
   "metadata": {},
   "outputs": [],
   "source": [
    "import pandas as pd\n",
    "import os"
   ]
  },
  {
   "cell_type": "code",
   "execution_count": 128,
   "metadata": {},
   "outputs": [],
   "source": [
    "def path(name):\n",
    "    path = os.path.join('..','..','1_dados_raw','tabela_de_intervencoes',name)\n",
    "    return(path)\n",
    "\n",
    "def path_out(name):\n",
    "    path = os.path.join('out',name)\n",
    "    return(path)"
   ]
  },
  {
   "cell_type": "code",
   "execution_count": 129,
   "metadata": {},
   "outputs": [
    {
     "data": {
      "text/plain": [
       "(11, 9)"
      ]
     },
     "execution_count": 129,
     "metadata": {},
     "output_type": "execute_result"
    }
   ],
   "source": [
    "name = 'Tabela de intervenções SC302A - parcial até JUN-2019 (1).xlsx'\n",
    "\n",
    "data = pd.read_excel(path(name))\n",
    "data = data[data['TAG'].str.contains('301A')]\n",
    "data.shape"
   ]
  },
  {
   "cell_type": "code",
   "execution_count": 140,
   "metadata": {},
   "outputs": [
    {
     "data": {
      "text/html": [
       "<div>\n",
       "<style scoped>\n",
       "    .dataframe tbody tr th:only-of-type {\n",
       "        vertical-align: middle;\n",
       "    }\n",
       "\n",
       "    .dataframe tbody tr th {\n",
       "        vertical-align: top;\n",
       "    }\n",
       "\n",
       "    .dataframe thead th {\n",
       "        text-align: right;\n",
       "    }\n",
       "</style>\n",
       "<table border=\"1\" class=\"dataframe\">\n",
       "  <thead>\n",
       "    <tr style=\"text-align: right;\">\n",
       "      <th></th>\n",
       "      <th>TAG</th>\n",
       "      <th>Nota PM</th>\n",
       "      <th>Ordem</th>\n",
       "      <th>Data</th>\n",
       "      <th>Termino dos trabalhos</th>\n",
       "      <th>Motivo</th>\n",
       "      <th>Obs</th>\n",
       "      <th>Serviços</th>\n",
       "      <th>Perdas</th>\n",
       "      <th>tempo_execucao</th>\n",
       "    </tr>\n",
       "    <tr>\n",
       "      <th>Data</th>\n",
       "      <th></th>\n",
       "      <th></th>\n",
       "      <th></th>\n",
       "      <th></th>\n",
       "      <th></th>\n",
       "      <th></th>\n",
       "      <th></th>\n",
       "      <th></th>\n",
       "      <th></th>\n",
       "      <th></th>\n",
       "    </tr>\n",
       "  </thead>\n",
       "  <tbody>\n",
       "    <tr>\n",
       "      <th>2008-12-01</th>\n",
       "      <td>RS01-SC-301A</td>\n",
       "      <td>9.800023e+10</td>\n",
       "      <td>90225502.0</td>\n",
       "      <td>2008-12-01</td>\n",
       "      <td>2009-01-09</td>\n",
       "      <td>Manutenção Preventiva 24000hs</td>\n",
       "      <td>NaN</td>\n",
       "      <td>Revisão geral do compressor  Susbtituição de a...</td>\n",
       "      <td>NaN</td>\n",
       "      <td>39 days</td>\n",
       "    </tr>\n",
       "    <tr>\n",
       "      <th>2012-09-26</th>\n",
       "      <td>RS01-SC-301A</td>\n",
       "      <td>9.300040e+10</td>\n",
       "      <td>9486114.0</td>\n",
       "      <td>2012-09-26</td>\n",
       "      <td>2012-09-27</td>\n",
       "      <td>M - C301A-perda óleo sel. lado acoplad</td>\n",
       "      <td>NaN</td>\n",
       "      <td>Substituição do selo do volante</td>\n",
       "      <td>NaN</td>\n",
       "      <td>1 days</td>\n",
       "    </tr>\n",
       "    <tr>\n",
       "      <th>2013-11-08</th>\n",
       "      <td>RS01-SC-301A</td>\n",
       "      <td>9.600006e+10</td>\n",
       "      <td>9573839.0</td>\n",
       "      <td>2013-11-08</td>\n",
       "      <td>2013-11-09</td>\n",
       "      <td>C301A - Com pressão alta na descarga</td>\n",
       "      <td>NaN</td>\n",
       "      <td>Substituido pistão, engaxetamento, raspador e ...</td>\n",
       "      <td>NaN</td>\n",
       "      <td>1 days</td>\n",
       "    </tr>\n",
       "  </tbody>\n",
       "</table>\n",
       "</div>"
      ],
      "text/plain": [
       "                     TAG       Nota PM       Ordem       Data  \\\n",
       "Data                                                            \n",
       "2008-12-01  RS01-SC-301A  9.800023e+10  90225502.0 2008-12-01   \n",
       "2012-09-26  RS01-SC-301A  9.300040e+10   9486114.0 2012-09-26   \n",
       "2013-11-08  RS01-SC-301A  9.600006e+10   9573839.0 2013-11-08   \n",
       "\n",
       "           Termino dos trabalhos                                  Motivo  Obs  \\\n",
       "Data                                                                            \n",
       "2008-12-01            2009-01-09           Manutenção Preventiva 24000hs  NaN   \n",
       "2012-09-26            2012-09-27  M - C301A-perda óleo sel. lado acoplad  NaN   \n",
       "2013-11-08            2013-11-09    C301A - Com pressão alta na descarga  NaN   \n",
       "\n",
       "                                                     Serviços  Perdas  \\\n",
       "Data                                                                    \n",
       "2008-12-01  Revisão geral do compressor  Susbtituição de a...     NaN   \n",
       "2012-09-26                    Substituição do selo do volante     NaN   \n",
       "2013-11-08  Substituido pistão, engaxetamento, raspador e ...     NaN   \n",
       "\n",
       "           tempo_execucao  \n",
       "Data                       \n",
       "2008-12-01        39 days  \n",
       "2012-09-26         1 days  \n",
       "2013-11-08         1 days  "
      ]
     },
     "execution_count": 140,
     "metadata": {},
     "output_type": "execute_result"
    }
   ],
   "source": [
    "data.head(3)"
   ]
  },
  {
   "cell_type": "code",
   "execution_count": 131,
   "metadata": {},
   "outputs": [],
   "source": [
    "#ajuste na falha de leitura do excel (gambiarra, cuidado)\n",
    "data.iloc[0,3] = '30.09.2017'\n",
    "data.iloc[5,3] = '26.09.2012'\n",
    "data.iloc[5,4] = '27.09.2012'"
   ]
  },
  {
   "cell_type": "code",
   "execution_count": 133,
   "metadata": {},
   "outputs": [],
   "source": [
    "#Organizando dataframe\n",
    "\n",
    "data['Inicios dos trabalhos'] = pd.to_datetime(data['Inicios dos trabalhos'],format = '%d.%m.%Y',errors = 'coerce')\n",
    "data['Termino dos trabalhos'] = pd.to_datetime(data['Termino dos trabalhos'], format = '%d.%m.%Y',errors = 'coerce')\n",
    "data.index = data['Inicios dos trabalhos']\n",
    "data =data.sort_index(ascending=True)\n",
    "data['tempo_execucao'] = data['Termino dos trabalhos'] - data['Inicios dos trabalhos']"
   ]
  },
  {
   "cell_type": "code",
   "execution_count": 134,
   "metadata": {},
   "outputs": [],
   "source": [
    "#Organizando dataframe\n",
    "data = data.rename(columns={'Inicios dos trabalhos' : 'Data'})\n",
    "data['Data'] = pd.to_datetime(data['Data'],format = '%d.%m.%Y',errors = 'coerce')\n",
    "data['Data'] = pd.to_datetime(data['Data'], format = '%d.%m.%Y',errors = 'coerce')\n",
    "data.index = data['Data']\n",
    "data =data.sort_index(ascending=True)\n",
    "#data['tempo_execucao'] = data['Termino dos trabalhos'] - data['Data']"
   ]
  },
  {
   "cell_type": "code",
   "execution_count": 139,
   "metadata": {},
   "outputs": [
    {
     "data": {
      "text/html": [
       "<div>\n",
       "<style scoped>\n",
       "    .dataframe tbody tr th:only-of-type {\n",
       "        vertical-align: middle;\n",
       "    }\n",
       "\n",
       "    .dataframe tbody tr th {\n",
       "        vertical-align: top;\n",
       "    }\n",
       "\n",
       "    .dataframe thead th {\n",
       "        text-align: right;\n",
       "    }\n",
       "</style>\n",
       "<table border=\"1\" class=\"dataframe\">\n",
       "  <thead>\n",
       "    <tr style=\"text-align: right;\">\n",
       "      <th></th>\n",
       "      <th>TAG</th>\n",
       "      <th>Nota PM</th>\n",
       "      <th>Ordem</th>\n",
       "      <th>Data</th>\n",
       "      <th>Termino dos trabalhos</th>\n",
       "      <th>Motivo</th>\n",
       "      <th>Obs</th>\n",
       "      <th>Serviços</th>\n",
       "      <th>Perdas</th>\n",
       "      <th>tempo_execucao</th>\n",
       "    </tr>\n",
       "    <tr>\n",
       "      <th>Data</th>\n",
       "      <th></th>\n",
       "      <th></th>\n",
       "      <th></th>\n",
       "      <th></th>\n",
       "      <th></th>\n",
       "      <th></th>\n",
       "      <th></th>\n",
       "      <th></th>\n",
       "      <th></th>\n",
       "      <th></th>\n",
       "    </tr>\n",
       "  </thead>\n",
       "  <tbody>\n",
       "    <tr>\n",
       "      <th>2008-12-01</th>\n",
       "      <td>RS01-SC-301A</td>\n",
       "      <td>9.800023e+10</td>\n",
       "      <td>90225502.0</td>\n",
       "      <td>2008-12-01</td>\n",
       "      <td>2009-01-09</td>\n",
       "      <td>Manutenção Preventiva 24000hs</td>\n",
       "      <td>NaN</td>\n",
       "      <td>Revisão geral do compressor  Susbtituição de a...</td>\n",
       "      <td>NaN</td>\n",
       "      <td>39 days</td>\n",
       "    </tr>\n",
       "    <tr>\n",
       "      <th>2012-09-26</th>\n",
       "      <td>RS01-SC-301A</td>\n",
       "      <td>9.300040e+10</td>\n",
       "      <td>9486114.0</td>\n",
       "      <td>2012-09-26</td>\n",
       "      <td>2012-09-27</td>\n",
       "      <td>M - C301A-perda óleo sel. lado acoplad</td>\n",
       "      <td>NaN</td>\n",
       "      <td>Substituição do selo do volante</td>\n",
       "      <td>NaN</td>\n",
       "      <td>1 days</td>\n",
       "    </tr>\n",
       "  </tbody>\n",
       "</table>\n",
       "</div>"
      ],
      "text/plain": [
       "                     TAG       Nota PM       Ordem       Data  \\\n",
       "Data                                                            \n",
       "2008-12-01  RS01-SC-301A  9.800023e+10  90225502.0 2008-12-01   \n",
       "2012-09-26  RS01-SC-301A  9.300040e+10   9486114.0 2012-09-26   \n",
       "\n",
       "           Termino dos trabalhos                                  Motivo  Obs  \\\n",
       "Data                                                                            \n",
       "2008-12-01            2009-01-09           Manutenção Preventiva 24000hs  NaN   \n",
       "2012-09-26            2012-09-27  M - C301A-perda óleo sel. lado acoplad  NaN   \n",
       "\n",
       "                                                     Serviços  Perdas  \\\n",
       "Data                                                                    \n",
       "2008-12-01  Revisão geral do compressor  Susbtituição de a...     NaN   \n",
       "2012-09-26                    Substituição do selo do volante     NaN   \n",
       "\n",
       "           tempo_execucao  \n",
       "Data                       \n",
       "2008-12-01        39 days  \n",
       "2012-09-26         1 days  "
      ]
     },
     "execution_count": 139,
     "metadata": {},
     "output_type": "execute_result"
    }
   ],
   "source": [
    "data.head(2)"
   ]
  },
  {
   "cell_type": "code",
   "execution_count": 136,
   "metadata": {},
   "outputs": [],
   "source": [
    "name = 'tabela_de_intervencoes_out.csv'\n",
    "data.to_csv(path_out(name))"
   ]
  },
  {
   "cell_type": "code",
   "execution_count": 137,
   "metadata": {},
   "outputs": [],
   "source": [
    "name = 'tabela_de_intervencoes_out.xlsx'\n",
    "data.to_excel(path_out(name))"
   ]
  },
  {
   "cell_type": "code",
   "execution_count": null,
   "metadata": {},
   "outputs": [],
   "source": []
  }
 ],
 "metadata": {
  "kernelspec": {
   "display_name": "Python 3",
   "language": "python",
   "name": "python3"
  },
  "language_info": {
   "codemirror_mode": {
    "name": "ipython",
    "version": 3
   },
   "file_extension": ".py",
   "mimetype": "text/x-python",
   "name": "python",
   "nbconvert_exporter": "python",
   "pygments_lexer": "ipython3",
   "version": "3.7.3"
  }
 },
 "nbformat": 4,
 "nbformat_minor": 2
}
