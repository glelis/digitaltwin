{
 "cells": [
  {
   "cell_type": "markdown",
   "metadata": {},
   "source": [
    "## 1. ANÁLISE DE TAGS FILTRADAS"
   ]
  },
  {
   "cell_type": "markdown",
   "metadata": {},
   "source": [
    "O objetivo desse notebook é analisar as tags filtradas nos arquivos '0.' em '2_exploracao_e_visualizacao'\n",
    "\n",
    "Análises feitas:\n",
    "* Estatísticas: média, máximo, mínimo e percentual de NaN\n",
    "* Anos das tags"
   ]
  },
  {
   "cell_type": "code",
   "execution_count": 1,
   "metadata": {},
   "outputs": [],
   "source": [
    "import pandas as pd\n",
    "import os\n",
    "import time\n",
    "import missingno as msno\n",
    "import numpy as np\n",
    "# bibliotecas de visualização\n",
    "import seaborn as sns\n",
    "import matplotlib.pyplot as plt\n",
    "\n",
    "# importando funções de 'read_tags.py'\n",
    "%run ..\\..\\..\\funcoes_base_global\\read_tags.py"
   ]
  },
  {
   "cell_type": "code",
   "execution_count": 2,
   "metadata": {},
   "outputs": [],
   "source": [
    "input_path = os.path.join('..','2_exploracao_e_visualizacao','out','')\n",
    "tags_path =  os.path.join('..','..','1_dados_raw','sensores','out')"
   ]
  },
  {
   "cell_type": "markdown",
   "metadata": {},
   "source": [
    "### 1. Definindo funções auxiliadoras"
   ]
  },
  {
   "cell_type": "code",
   "execution_count": 3,
   "metadata": {},
   "outputs": [],
   "source": [
    "def estatisticas(df):\n",
    "    \"Cria dataframe cujas colunas são média, máximo, mínimo e % de NaN por tag\"\n",
    "    media = df[df.columns[0:]].mean()\n",
    "    maximo = df[df.columns[0:]].max()\n",
    "    minimo = df[df.columns[0:]].min()\n",
    "    percentNan = df[df.columns[0:]].isna().sum() / df.shape[0] * 100\n",
    "    \n",
    "    stats = pd.concat([media,minimo,maximo,percentNan],axis=1)\n",
    "    stats.columns = ['mean','min','max','percentNan']\n",
    "    return stats"
   ]
  },
  {
   "cell_type": "markdown",
   "metadata": {},
   "source": [
    "### 2. Lendo todas as tags a serem apresentadas"
   ]
  },
  {
   "cell_type": "code",
   "execution_count": null,
   "metadata": {},
   "outputs": [
    {
     "name": "stdout",
     "output_type": "stream",
     "text": [
      "Processando TAG: JI3401.PV\n"
     ]
    },
    {
     "name": "stderr",
     "output_type": "stream",
     "text": [
      "C:\\Users\\jessica.assumpcao\\AppData\\Local\\Continuum\\anaconda3\\lib\\site-packages\\IPython\\core\\interactiveshell.py:3325: DtypeWarning: Columns (1) have mixed types. Specify dtype option on import or set low_memory=False.\n",
      "  exec(code_obj, self.user_global_ns, self.user_ns)\n"
     ]
    }
   ],
   "source": [
    "df_potencia = read_tags(['JI3401.PV'], tags_path)"
   ]
  },
  {
   "cell_type": "code",
   "execution_count": null,
   "metadata": {},
   "outputs": [],
   "source": [
    "df_temp = pd.read_csv(input_path + 'df_temperatura_filtrada.csv.gz', compression = 'gzip',\n",
    "                      parse_dates = ['Date'], index_col = 'Date')\n",
    "df_pressao = pd.read_csv(input_path + 'df_pressao_filtrada.csv.gz', compression = 'gzip',\n",
    "                      parse_dates = ['Date'], index_col = 'Date')\n",
    "df_vibracao = pd.read_csv(input_path + 'df_vibracao_filtrada.csv.gz', compression = 'gzip',\n",
    "                      parse_dates = ['Date'], index_col = 'Date')\n",
    "df_vazao = pd.read_csv(input_path + 'df_vazao_filtrada.csv.gz', compression = 'gzip',\n",
    "                      parse_dates = ['Date'], index_col = 'Date')\n",
    "df_gas = pd.read_csv(input_path + 'df_gas_filtrada.csv.gz', compression = 'gzip',\n",
    "                      parse_dates = ['Date'], index_col = 'Date')"
   ]
  },
  {
   "cell_type": "code",
   "execution_count": null,
   "metadata": {},
   "outputs": [],
   "source": [
    "final = [df_temp, df_pressao, df_vibracao, df_vazao, df_gas, df_potencia]"
   ]
  },
  {
   "cell_type": "code",
   "execution_count": null,
   "metadata": {},
   "outputs": [],
   "source": [
    "df = pd.concat(final)\n",
    "df.head()"
   ]
  },
  {
   "cell_type": "markdown",
   "metadata": {},
   "source": [
    "### 3. Análises estatísticas"
   ]
  },
  {
   "cell_type": "code",
   "execution_count": null,
   "metadata": {},
   "outputs": [],
   "source": [
    "estatisticas(df)"
   ]
  },
  {
   "cell_type": "markdown",
   "metadata": {},
   "source": [
    "### 4. Anos das tags"
   ]
  },
  {
   "cell_type": "code",
   "execution_count": null,
   "metadata": {},
   "outputs": [],
   "source": [
    "# criando um dataframe novo cujo index são os anos\n",
    "df_ano = df_apresentacao.copy()\n",
    "df_ano.index = df_ano.index.year"
   ]
  },
  {
   "cell_type": "code",
   "execution_count": null,
   "metadata": {},
   "outputs": [],
   "source": [
    "tempo = time.time()\n",
    "sns.heatmap(df_ano.isnull(), cbar = False)\n",
    "pass"
   ]
  },
  {
   "cell_type": "code",
   "execution_count": null,
   "metadata": {},
   "outputs": [],
   "source": [
    "time.time() - tempo"
   ]
  }
 ],
 "metadata": {
  "kernelspec": {
   "display_name": "Python 3",
   "language": "python",
   "name": "python3"
  },
  "language_info": {
   "codemirror_mode": {
    "name": "ipython",
    "version": 3
   },
   "file_extension": ".py",
   "mimetype": "text/x-python",
   "name": "python",
   "nbconvert_exporter": "python",
   "pygments_lexer": "ipython3",
   "version": "3.7.3"
  }
 },
 "nbformat": 4,
 "nbformat_minor": 4
}
