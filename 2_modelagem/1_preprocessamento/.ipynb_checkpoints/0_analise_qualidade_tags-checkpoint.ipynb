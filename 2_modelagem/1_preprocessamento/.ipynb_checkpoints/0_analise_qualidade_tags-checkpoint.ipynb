{
 "cells": [
  {
   "cell_type": "markdown",
   "metadata": {},
   "source": [
    "## 0.1. ANÁLISE DE TAGS RECEBIDAS"
   ]
  },
  {
   "cell_type": "markdown",
   "metadata": {},
   "source": [
    "O objetivo desse notebook é ler as tags, separá-las em grupos (ex tags de pressão, de temperatura, etc) e, por fim, analisá-las. Também verificamos as tags faltantes.\n",
    "\n",
    "Análises feitas:\n",
    "* Tags faltantes\n",
    "* Estatísticas: média, máximo, mínimo e percentual de NaN\n",
    "* Anos das tags\n",
    "* Qualidade: quantidade de dados bons e ruins\n",
    "\n",
    "Requisitos para rodar o notebook:\n",
    "* É necessário ter as tags baixadas dentro de '1_dados_raw'/'sensores'/'out'"
   ]
  },
  {
   "cell_type": "code",
   "execution_count": 1,
   "metadata": {},
   "outputs": [],
   "source": [
    "import pandas as pd\n",
    "import os\n",
    "import time\n",
    "import missingno as msno\n",
    "import numpy as np\n",
    "# bibliotecas de visualização\n",
    "import seaborn as sns\n",
    "import matplotlib.pyplot as plt\n",
    "\n",
    "# importando funções de 'read_tags.py'\n",
    "%run ..\\..\\..\\funcoes_base_global\\read_tags.py"
   ]
  },
  {
   "cell_type": "markdown",
   "metadata": {},
   "source": [
    "### 1. Definindo funções auxiliadoras"
   ]
  },
  {
   "cell_type": "code",
   "execution_count": 2,
   "metadata": {},
   "outputs": [],
   "source": [
    "def path(name):\n",
    "    path = os.path.join('..','..','1_dados_raw','sensores','out', name)\n",
    "    return(path)\n",
    "\n",
    "def path_2(name):\n",
    "    path = os.path.join('..','..','1_dados_raw','excel', name)\n",
    "    return(path)\n",
    "\n",
    "def path_3(name):\n",
    "    path = os.path.join('out', name)\n",
    "    return(path)"
   ]
  },
  {
   "cell_type": "code",
   "execution_count": 3,
   "metadata": {},
   "outputs": [],
   "source": [
    "def estatisticas(df):\n",
    "    \"Cria dataframe cujas colunas são média, máximo, mínimo e % de NaN por tag\"\n",
    "    media = df[df.columns[0:]].mean()\n",
    "    maximo = df[df.columns[0:]].max()\n",
    "    minimo = df[df.columns[0:]].min()\n",
    "    percentNan = df[df.columns[0:]].isna().sum() / df.shape[0] * 100\n",
    "    \n",
    "    stats = pd.concat([media,minimo,maximo,percentNan],axis=1)\n",
    "    stats.columns = ['mean','min','max','percentNan']\n",
    "    return stats"
   ]
  },
  {
   "cell_type": "code",
   "execution_count": 4,
   "metadata": {},
   "outputs": [],
   "source": [
    "def qualidade(data):\n",
    "    \"Conta quantidade de dados classificados como bons e ruins\"\n",
    "    for tag in data.columns[data.columns.str.contains('_quality')]:\n",
    "        total = data[tag].count()\n",
    "        good = data[tag][data[tag] == 'Good'].count()\n",
    "        bad = data[tag][data[tag] == 'Bad'].count()\n",
    "        print(tag)\n",
    "        print('Qtd good: %d       Qtd bad: %d       Good Percent: %.2f \\n'%(good, bad, (good/total)*100))"
   ]
  },
  {
   "cell_type": "markdown",
   "metadata": {},
   "source": [
    "### 2. Setando listas de tags"
   ]
  },
  {
   "cell_type": "code",
   "execution_count": 5,
   "metadata": {},
   "outputs": [],
   "source": [
    "# Armazena o nome dos todas as tags baixadas\n",
    "tags_baixadas = os.listdir(path(''))\n",
    "tags_baixadas = pd.Series(tags_baixadas)\n",
    "tags_baixadas = tags_baixadas[tags_baixadas.str.contains('.csv.gz')]\n",
    "tags_baixadas = tags_baixadas.str.split('.csv.gz', expand = True)\n",
    "tags_baixadas = tags_baixadas.drop(1, axis = 1).reset_index(drop = True)\n",
    "tags_baixadas = tags_baixadas.rename(columns = {0 : 'Tags'})\n",
    "tags_baixadas = tags_baixadas['Tags'].str.split('_', expand = True)[0]\n",
    "#tags_baixadas = tags_baixadas[0].tolist()"
   ]
  },
  {
   "cell_type": "code",
   "execution_count": 6,
   "metadata": {},
   "outputs": [],
   "source": [
    "# Armazena as tags solicitadas para extração\n",
    "name = 'TAGS.xlsx'\n",
    "tags_solicitadas = pd.read_excel(path_2(name))\n",
    "tags_solicitadas['Tags'] = tags_solicitadas['Tags'].str.strip()\n",
    "#tags_solicitadas = tags_solicitadas['Tags'].tolist()"
   ]
  },
  {
   "cell_type": "code",
   "execution_count": 7,
   "metadata": {},
   "outputs": [],
   "source": [
    "tags_baixadas = list(tags_baixadas)"
   ]
  },
  {
   "cell_type": "code",
   "execution_count": 8,
   "metadata": {},
   "outputs": [
    {
     "name": "stdout",
     "output_type": "stream",
     "text": [
      "TAGS FALTANTES:\n",
      "             0\n",
      "0  produtopol\n",
      "1      Modelo\n",
      "2  FI2601V.PV\n"
     ]
    }
   ],
   "source": [
    "# Verificando tags faltantes\n",
    "tags_faltantes = [x for x in tags_solicitadas['Tags'] if (x not in list(tags_baixadas))]\n",
    "faltantes = pd.DataFrame(tags_faltantes)\n",
    "print('TAGS FALTANTES:\\n', faltantes)"
   ]
  },
  {
   "cell_type": "code",
   "execution_count": 9,
   "metadata": {},
   "outputs": [],
   "source": [
    "# Salvando as tags faltantes em '1_preprocessamento', 'out'\n",
    "name = 'tags_faltantes.xlsx'\n",
    "faltantes.to_excel(path_3(name))"
   ]
  },
  {
   "cell_type": "markdown",
   "metadata": {},
   "source": [
    "### 3. Separando tags em grupos"
   ]
  },
  {
   "cell_type": "code",
   "execution_count": 10,
   "metadata": {},
   "outputs": [],
   "source": [
    "vibracao = []\n",
    "pressao = []\n",
    "temperatura = []\n",
    "vazao = []\n",
    "gas = []\n",
    "outras = []     # caso seja necessário, abrir em grupos mais específicos\n",
    "\n",
    "for tag in tags_baixadas:\n",
    "    if tag[0] == 'X':\n",
    "        vibracao.append(tag)\n",
    "    elif tag[0] == 'P':\n",
    "        pressao.append(tag)\n",
    "    elif tag[0] == 'T':\n",
    "        temperatura.append(tag)\n",
    "    elif tag[0] == 'F':\n",
    "        vazao.append(tag)\n",
    "    elif tag[0] == 'A':\n",
    "        gas.append(tag)\n",
    "    else:\n",
    "        outras.append(tag)\n",
    "        \n",
    "\n",
    "# removendo tags duplicadas\n",
    "vibracao    = list(dict.fromkeys(vibracao))\n",
    "pressao     = list(dict.fromkeys(pressao))\n",
    "temperatura = list(dict.fromkeys(temperatura))\n",
    "vazao       = list(dict.fromkeys(vazao))\n",
    "gas         = list(dict.fromkeys(gas))\n",
    "outras      = list(dict.fromkeys(outras))\n",
    "\n",
    "\n",
    "\n",
    "# removendo tags de 1S\n",
    "vibracao    = [x for x in vibracao    if '1S' not in x]\n",
    "pressao     = [x for x in pressao     if '1S' not in x]\n",
    "temperatura = [x for x in temperatura if '1S' not in x]\n",
    "vazao       = [x for x in vazao       if '1S' not in x]\n",
    "gas         = [x for x in gas         if '1S' not in x]\n",
    "outras      = [x for x in outras      if '1S' not in x]"
   ]
  },
  {
   "cell_type": "markdown",
   "metadata": {},
   "source": [
    "### 4. Temperatura"
   ]
  },
  {
   "cell_type": "code",
   "execution_count": 11,
   "metadata": {},
   "outputs": [
    {
     "data": {
      "text/plain": [
       "['TI2401.PV',\n",
       " 'TI2601.PV',\n",
       " 'TI3401.PV',\n",
       " 'TI3402.PV',\n",
       " 'TI3403.PV',\n",
       " 'TI3404.PV',\n",
       " 'TI3405.PV',\n",
       " 'TI3406.PV',\n",
       " 'TI3407.PV',\n",
       " 'TI3408.PV',\n",
       " 'TI3409.PV',\n",
       " 'TI3410.PV',\n",
       " 'TI3411A.PV',\n",
       " 'TI3411B.PV',\n",
       " 'TI3411C.PV',\n",
       " 'TI3412A.PV',\n",
       " 'TI3412B.PV']"
      ]
     },
     "execution_count": 11,
     "metadata": {},
     "output_type": "execute_result"
    }
   ],
   "source": [
    "temperatura"
   ]
  },
  {
   "cell_type": "markdown",
   "metadata": {},
   "source": [
    "#### 4.1. Lendo as tags"
   ]
  },
  {
   "cell_type": "code",
   "execution_count": 12,
   "metadata": {
    "scrolled": true
   },
   "outputs": [
    {
     "name": "stdout",
     "output_type": "stream",
     "text": [
      "Processando TAG: TI2401.PV\n",
      "Processando TAG: TI2601.PV\n",
      "Processando TAG: TI3401.PV\n"
     ]
    },
    {
     "name": "stderr",
     "output_type": "stream",
     "text": [
      "C:\\ProgramData\\Anaconda3\\lib\\site-packages\\IPython\\core\\interactiveshell.py:3296: DtypeWarning: Columns (1) have mixed types. Specify dtype option on import or set low_memory=False.\n",
      "  exec(code_obj, self.user_global_ns, self.user_ns)\n"
     ]
    },
    {
     "name": "stdout",
     "output_type": "stream",
     "text": [
      "Processando TAG: TI3402.PV\n",
      "Processando TAG: TI3403.PV\n",
      "Processando TAG: TI3404.PV\n",
      "Processando TAG: TI3405.PV\n",
      "Processando TAG: TI3406.PV\n",
      "Processando TAG: TI3407.PV\n",
      "Processando TAG: TI3408.PV\n",
      "Processando TAG: TI3409.PV\n",
      "Processando TAG: TI3410.PV\n",
      "Processando TAG: TI3411A.PV\n",
      "Processando TAG: TI3411B.PV\n",
      "Processando TAG: TI3411C.PV\n",
      "Processando TAG: TI3412A.PV\n",
      "Processando TAG: TI3412B.PV\n",
      "Concatenando...\n",
      "Feito!\n"
     ]
    }
   ],
   "source": [
    "df = read_tags(temperatura, path(''))\n",
    "df.to_csv(path_3('df_temp.csv.gz'), compression = 'gzip')"
   ]
  },
  {
   "cell_type": "code",
   "execution_count": 13,
   "metadata": {},
   "outputs": [
    {
     "data": {
      "text/html": [
       "<div>\n",
       "<style scoped>\n",
       "    .dataframe tbody tr th:only-of-type {\n",
       "        vertical-align: middle;\n",
       "    }\n",
       "\n",
       "    .dataframe tbody tr th {\n",
       "        vertical-align: top;\n",
       "    }\n",
       "\n",
       "    .dataframe thead th {\n",
       "        text-align: right;\n",
       "    }\n",
       "</style>\n",
       "<table border=\"1\" class=\"dataframe\">\n",
       "  <thead>\n",
       "    <tr style=\"text-align: right;\">\n",
       "      <th></th>\n",
       "      <th>TI2401.PV</th>\n",
       "      <th>TI2601.PV</th>\n",
       "      <th>TI3401.PV</th>\n",
       "      <th>TI3402.PV</th>\n",
       "      <th>TI3403.PV</th>\n",
       "      <th>TI3404.PV</th>\n",
       "      <th>TI3405.PV</th>\n",
       "      <th>TI3406.PV</th>\n",
       "      <th>TI3407.PV</th>\n",
       "      <th>TI3408.PV</th>\n",
       "      <th>TI3409.PV</th>\n",
       "      <th>TI3410.PV</th>\n",
       "      <th>TI3411A.PV</th>\n",
       "      <th>TI3411B.PV</th>\n",
       "      <th>TI3411C.PV</th>\n",
       "      <th>TI3412A.PV</th>\n",
       "      <th>TI3412B.PV</th>\n",
       "    </tr>\n",
       "  </thead>\n",
       "  <tbody>\n",
       "    <tr>\n",
       "      <th>count</th>\n",
       "      <td>5.014175e+06</td>\n",
       "      <td>5.014175e+06</td>\n",
       "      <td>2.348042e+06</td>\n",
       "      <td>2.348042e+06</td>\n",
       "      <td>2.348042e+06</td>\n",
       "      <td>2.348042e+06</td>\n",
       "      <td>5.416830e+06</td>\n",
       "      <td>5.416830e+06</td>\n",
       "      <td>5.416830e+06</td>\n",
       "      <td>5.416830e+06</td>\n",
       "      <td>2.348042e+06</td>\n",
       "      <td>2.348042e+06</td>\n",
       "      <td>2.348042e+06</td>\n",
       "      <td>2.348042e+06</td>\n",
       "      <td>2.348042e+06</td>\n",
       "      <td>2.348042e+06</td>\n",
       "      <td>2.348042e+06</td>\n",
       "    </tr>\n",
       "    <tr>\n",
       "      <th>mean</th>\n",
       "      <td>3.189610e+01</td>\n",
       "      <td>5.452065e+01</td>\n",
       "      <td>9.698316e+01</td>\n",
       "      <td>9.662704e+01</td>\n",
       "      <td>1.337422e+02</td>\n",
       "      <td>1.298164e+02</td>\n",
       "      <td>2.785797e+01</td>\n",
       "      <td>1.520565e+01</td>\n",
       "      <td>2.465494e+01</td>\n",
       "      <td>3.619384e+01</td>\n",
       "      <td>4.683290e+01</td>\n",
       "      <td>5.290877e+01</td>\n",
       "      <td>7.127330e+01</td>\n",
       "      <td>6.638761e+01</td>\n",
       "      <td>6.149608e+01</td>\n",
       "      <td>3.821095e+01</td>\n",
       "      <td>3.244239e+01</td>\n",
       "    </tr>\n",
       "    <tr>\n",
       "      <th>std</th>\n",
       "      <td>6.637426e+00</td>\n",
       "      <td>1.375974e+01</td>\n",
       "      <td>2.807888e+01</td>\n",
       "      <td>2.917732e+01</td>\n",
       "      <td>3.731542e+01</td>\n",
       "      <td>4.244979e+01</td>\n",
       "      <td>5.655965e+01</td>\n",
       "      <td>2.049835e+01</td>\n",
       "      <td>3.078444e+01</td>\n",
       "      <td>7.061611e+01</td>\n",
       "      <td>2.148917e+01</td>\n",
       "      <td>2.573276e+01</td>\n",
       "      <td>2.226237e+01</td>\n",
       "      <td>1.620423e+01</td>\n",
       "      <td>3.148551e+01</td>\n",
       "      <td>2.065361e+01</td>\n",
       "      <td>2.118701e+01</td>\n",
       "    </tr>\n",
       "    <tr>\n",
       "      <th>min</th>\n",
       "      <td>-2.095310e+01</td>\n",
       "      <td>0.000000e+00</td>\n",
       "      <td>-4.000000e+00</td>\n",
       "      <td>-6.000000e+00</td>\n",
       "      <td>-4.000000e+00</td>\n",
       "      <td>-6.000000e+00</td>\n",
       "      <td>-2.404460e+02</td>\n",
       "      <td>-6.242400e+01</td>\n",
       "      <td>-6.382300e+01</td>\n",
       "      <td>-1.774440e+02</td>\n",
       "      <td>-4.000000e+00</td>\n",
       "      <td>-6.000000e+00</td>\n",
       "      <td>-4.000000e+00</td>\n",
       "      <td>-4.000000e+00</td>\n",
       "      <td>-4.000000e+00</td>\n",
       "      <td>-4.000000e+00</td>\n",
       "      <td>-4.000000e+00</td>\n",
       "    </tr>\n",
       "    <tr>\n",
       "      <th>25%</th>\n",
       "      <td>2.813090e+01</td>\n",
       "      <td>5.142860e+01</td>\n",
       "      <td>9.800000e+01</td>\n",
       "      <td>9.800000e+01</td>\n",
       "      <td>1.390000e+02</td>\n",
       "      <td>1.380000e+02</td>\n",
       "      <td>0.000000e+00</td>\n",
       "      <td>0.000000e+00</td>\n",
       "      <td>0.000000e+00</td>\n",
       "      <td>0.000000e+00</td>\n",
       "      <td>4.000000e+01</td>\n",
       "      <td>4.900000e+01</td>\n",
       "      <td>6.003100e+01</td>\n",
       "      <td>6.197800e+01</td>\n",
       "      <td>5.202400e+01</td>\n",
       "      <td>2.700000e+01</td>\n",
       "      <td>1.900000e+01</td>\n",
       "    </tr>\n",
       "    <tr>\n",
       "      <th>50%</th>\n",
       "      <td>3.202150e+01</td>\n",
       "      <td>5.931140e+01</td>\n",
       "      <td>1.059840e+02</td>\n",
       "      <td>1.040000e+02</td>\n",
       "      <td>1.440000e+02</td>\n",
       "      <td>1.440000e+02</td>\n",
       "      <td>0.000000e+00</td>\n",
       "      <td>0.000000e+00</td>\n",
       "      <td>1.963300e+01</td>\n",
       "      <td>0.000000e+00</td>\n",
       "      <td>4.300400e+01</td>\n",
       "      <td>5.100000e+01</td>\n",
       "      <td>7.098900e+01</td>\n",
       "      <td>6.895500e+01</td>\n",
       "      <td>7.000000e+01</td>\n",
       "      <td>4.200000e+01</td>\n",
       "      <td>3.800000e+01</td>\n",
       "    </tr>\n",
       "    <tr>\n",
       "      <th>75%</th>\n",
       "      <td>3.594430e+01</td>\n",
       "      <td>6.358970e+01</td>\n",
       "      <td>1.110000e+02</td>\n",
       "      <td>1.090000e+02</td>\n",
       "      <td>1.489950e+02</td>\n",
       "      <td>1.490000e+02</td>\n",
       "      <td>9.688300e+01</td>\n",
       "      <td>3.563000e+01</td>\n",
       "      <td>3.307800e+01</td>\n",
       "      <td>1.310580e+02</td>\n",
       "      <td>4.700000e+01</td>\n",
       "      <td>5.300000e+01</td>\n",
       "      <td>8.600000e+01</td>\n",
       "      <td>7.498275e+01</td>\n",
       "      <td>8.200000e+01</td>\n",
       "      <td>4.800000e+01</td>\n",
       "      <td>4.500000e+01</td>\n",
       "    </tr>\n",
       "    <tr>\n",
       "      <th>max</th>\n",
       "      <td>6.089060e+01</td>\n",
       "      <td>8.720880e+01</td>\n",
       "      <td>2.040000e+02</td>\n",
       "      <td>2.120000e+02</td>\n",
       "      <td>2.040000e+02</td>\n",
       "      <td>2.130000e+02</td>\n",
       "      <td>2.531460e+02</td>\n",
       "      <td>1.195820e+02</td>\n",
       "      <td>1.180240e+02</td>\n",
       "      <td>2.388010e+02</td>\n",
       "      <td>1.200000e+02</td>\n",
       "      <td>2.120000e+02</td>\n",
       "      <td>1.200000e+02</td>\n",
       "      <td>1.200000e+02</td>\n",
       "      <td>1.200000e+02</td>\n",
       "      <td>1.200000e+02</td>\n",
       "      <td>1.200000e+02</td>\n",
       "    </tr>\n",
       "  </tbody>\n",
       "</table>\n",
       "</div>"
      ],
      "text/plain": [
       "          TI2401.PV     TI2601.PV     TI3401.PV     TI3402.PV     TI3403.PV  \\\n",
       "count  5.014175e+06  5.014175e+06  2.348042e+06  2.348042e+06  2.348042e+06   \n",
       "mean   3.189610e+01  5.452065e+01  9.698316e+01  9.662704e+01  1.337422e+02   \n",
       "std    6.637426e+00  1.375974e+01  2.807888e+01  2.917732e+01  3.731542e+01   \n",
       "min   -2.095310e+01  0.000000e+00 -4.000000e+00 -6.000000e+00 -4.000000e+00   \n",
       "25%    2.813090e+01  5.142860e+01  9.800000e+01  9.800000e+01  1.390000e+02   \n",
       "50%    3.202150e+01  5.931140e+01  1.059840e+02  1.040000e+02  1.440000e+02   \n",
       "75%    3.594430e+01  6.358970e+01  1.110000e+02  1.090000e+02  1.489950e+02   \n",
       "max    6.089060e+01  8.720880e+01  2.040000e+02  2.120000e+02  2.040000e+02   \n",
       "\n",
       "          TI3404.PV     TI3405.PV     TI3406.PV     TI3407.PV     TI3408.PV  \\\n",
       "count  2.348042e+06  5.416830e+06  5.416830e+06  5.416830e+06  5.416830e+06   \n",
       "mean   1.298164e+02  2.785797e+01  1.520565e+01  2.465494e+01  3.619384e+01   \n",
       "std    4.244979e+01  5.655965e+01  2.049835e+01  3.078444e+01  7.061611e+01   \n",
       "min   -6.000000e+00 -2.404460e+02 -6.242400e+01 -6.382300e+01 -1.774440e+02   \n",
       "25%    1.380000e+02  0.000000e+00  0.000000e+00  0.000000e+00  0.000000e+00   \n",
       "50%    1.440000e+02  0.000000e+00  0.000000e+00  1.963300e+01  0.000000e+00   \n",
       "75%    1.490000e+02  9.688300e+01  3.563000e+01  3.307800e+01  1.310580e+02   \n",
       "max    2.130000e+02  2.531460e+02  1.195820e+02  1.180240e+02  2.388010e+02   \n",
       "\n",
       "          TI3409.PV     TI3410.PV    TI3411A.PV    TI3411B.PV    TI3411C.PV  \\\n",
       "count  2.348042e+06  2.348042e+06  2.348042e+06  2.348042e+06  2.348042e+06   \n",
       "mean   4.683290e+01  5.290877e+01  7.127330e+01  6.638761e+01  6.149608e+01   \n",
       "std    2.148917e+01  2.573276e+01  2.226237e+01  1.620423e+01  3.148551e+01   \n",
       "min   -4.000000e+00 -6.000000e+00 -4.000000e+00 -4.000000e+00 -4.000000e+00   \n",
       "25%    4.000000e+01  4.900000e+01  6.003100e+01  6.197800e+01  5.202400e+01   \n",
       "50%    4.300400e+01  5.100000e+01  7.098900e+01  6.895500e+01  7.000000e+01   \n",
       "75%    4.700000e+01  5.300000e+01  8.600000e+01  7.498275e+01  8.200000e+01   \n",
       "max    1.200000e+02  2.120000e+02  1.200000e+02  1.200000e+02  1.200000e+02   \n",
       "\n",
       "         TI3412A.PV    TI3412B.PV  \n",
       "count  2.348042e+06  2.348042e+06  \n",
       "mean   3.821095e+01  3.244239e+01  \n",
       "std    2.065361e+01  2.118701e+01  \n",
       "min   -4.000000e+00 -4.000000e+00  \n",
       "25%    2.700000e+01  1.900000e+01  \n",
       "50%    4.200000e+01  3.800000e+01  \n",
       "75%    4.800000e+01  4.500000e+01  \n",
       "max    1.200000e+02  1.200000e+02  "
      ]
     },
     "execution_count": 13,
     "metadata": {},
     "output_type": "execute_result"
    }
   ],
   "source": [
    "df.describe()"
   ]
  },
  {
   "cell_type": "markdown",
   "metadata": {},
   "source": [
    "#### 4.2. Análises estatísticas"
   ]
  },
  {
   "cell_type": "code",
   "execution_count": 14,
   "metadata": {},
   "outputs": [
    {
     "data": {
      "text/html": [
       "<div>\n",
       "<style scoped>\n",
       "    .dataframe tbody tr th:only-of-type {\n",
       "        vertical-align: middle;\n",
       "    }\n",
       "\n",
       "    .dataframe tbody tr th {\n",
       "        vertical-align: top;\n",
       "    }\n",
       "\n",
       "    .dataframe thead th {\n",
       "        text-align: right;\n",
       "    }\n",
       "</style>\n",
       "<table border=\"1\" class=\"dataframe\">\n",
       "  <thead>\n",
       "    <tr style=\"text-align: right;\">\n",
       "      <th></th>\n",
       "      <th>mean</th>\n",
       "      <th>min</th>\n",
       "      <th>max</th>\n",
       "      <th>percentNan</th>\n",
       "    </tr>\n",
       "  </thead>\n",
       "  <tbody>\n",
       "    <tr>\n",
       "      <th>TI2401.PV</th>\n",
       "      <td>31.896103</td>\n",
       "      <td>-20.9531</td>\n",
       "      <td>60.8906</td>\n",
       "      <td>9.844189</td>\n",
       "    </tr>\n",
       "    <tr>\n",
       "      <th>TI2601.PV</th>\n",
       "      <td>54.520654</td>\n",
       "      <td>0.0000</td>\n",
       "      <td>87.2088</td>\n",
       "      <td>9.844189</td>\n",
       "    </tr>\n",
       "    <tr>\n",
       "      <th>TI3401.PV</th>\n",
       "      <td>96.983157</td>\n",
       "      <td>-4.0000</td>\n",
       "      <td>204.0000</td>\n",
       "      <td>57.781763</td>\n",
       "    </tr>\n",
       "    <tr>\n",
       "      <th>TI3402.PV</th>\n",
       "      <td>96.627039</td>\n",
       "      <td>-6.0000</td>\n",
       "      <td>212.0000</td>\n",
       "      <td>57.781763</td>\n",
       "    </tr>\n",
       "    <tr>\n",
       "      <th>TI3403.PV</th>\n",
       "      <td>133.742164</td>\n",
       "      <td>-4.0000</td>\n",
       "      <td>204.0000</td>\n",
       "      <td>57.781763</td>\n",
       "    </tr>\n",
       "    <tr>\n",
       "      <th>TI3404.PV</th>\n",
       "      <td>129.816393</td>\n",
       "      <td>-6.0000</td>\n",
       "      <td>213.0000</td>\n",
       "      <td>57.781763</td>\n",
       "    </tr>\n",
       "    <tr>\n",
       "      <th>TI3405.PV</th>\n",
       "      <td>27.857973</td>\n",
       "      <td>-240.4460</td>\n",
       "      <td>253.1460</td>\n",
       "      <td>2.604376</td>\n",
       "    </tr>\n",
       "    <tr>\n",
       "      <th>TI3406.PV</th>\n",
       "      <td>15.205652</td>\n",
       "      <td>-62.4240</td>\n",
       "      <td>119.5820</td>\n",
       "      <td>2.604376</td>\n",
       "    </tr>\n",
       "    <tr>\n",
       "      <th>TI3407.PV</th>\n",
       "      <td>24.654939</td>\n",
       "      <td>-63.8230</td>\n",
       "      <td>118.0240</td>\n",
       "      <td>2.604376</td>\n",
       "    </tr>\n",
       "    <tr>\n",
       "      <th>TI3408.PV</th>\n",
       "      <td>36.193839</td>\n",
       "      <td>-177.4440</td>\n",
       "      <td>238.8010</td>\n",
       "      <td>2.604376</td>\n",
       "    </tr>\n",
       "    <tr>\n",
       "      <th>TI3409.PV</th>\n",
       "      <td>46.832898</td>\n",
       "      <td>-4.0000</td>\n",
       "      <td>120.0000</td>\n",
       "      <td>57.781763</td>\n",
       "    </tr>\n",
       "    <tr>\n",
       "      <th>TI3410.PV</th>\n",
       "      <td>52.908773</td>\n",
       "      <td>-6.0000</td>\n",
       "      <td>212.0000</td>\n",
       "      <td>57.781763</td>\n",
       "    </tr>\n",
       "    <tr>\n",
       "      <th>TI3411A.PV</th>\n",
       "      <td>71.273297</td>\n",
       "      <td>-4.0000</td>\n",
       "      <td>120.0000</td>\n",
       "      <td>57.781763</td>\n",
       "    </tr>\n",
       "    <tr>\n",
       "      <th>TI3411B.PV</th>\n",
       "      <td>66.387612</td>\n",
       "      <td>-4.0000</td>\n",
       "      <td>120.0000</td>\n",
       "      <td>57.781763</td>\n",
       "    </tr>\n",
       "    <tr>\n",
       "      <th>TI3411C.PV</th>\n",
       "      <td>61.496080</td>\n",
       "      <td>-4.0000</td>\n",
       "      <td>120.0000</td>\n",
       "      <td>57.781763</td>\n",
       "    </tr>\n",
       "    <tr>\n",
       "      <th>TI3412A.PV</th>\n",
       "      <td>38.210953</td>\n",
       "      <td>-4.0000</td>\n",
       "      <td>120.0000</td>\n",
       "      <td>57.781763</td>\n",
       "    </tr>\n",
       "    <tr>\n",
       "      <th>TI3412B.PV</th>\n",
       "      <td>32.442388</td>\n",
       "      <td>-4.0000</td>\n",
       "      <td>120.0000</td>\n",
       "      <td>57.781763</td>\n",
       "    </tr>\n",
       "  </tbody>\n",
       "</table>\n",
       "</div>"
      ],
      "text/plain": [
       "                  mean       min       max  percentNan\n",
       "TI2401.PV    31.896103  -20.9531   60.8906    9.844189\n",
       "TI2601.PV    54.520654    0.0000   87.2088    9.844189\n",
       "TI3401.PV    96.983157   -4.0000  204.0000   57.781763\n",
       "TI3402.PV    96.627039   -6.0000  212.0000   57.781763\n",
       "TI3403.PV   133.742164   -4.0000  204.0000   57.781763\n",
       "TI3404.PV   129.816393   -6.0000  213.0000   57.781763\n",
       "TI3405.PV    27.857973 -240.4460  253.1460    2.604376\n",
       "TI3406.PV    15.205652  -62.4240  119.5820    2.604376\n",
       "TI3407.PV    24.654939  -63.8230  118.0240    2.604376\n",
       "TI3408.PV    36.193839 -177.4440  238.8010    2.604376\n",
       "TI3409.PV    46.832898   -4.0000  120.0000   57.781763\n",
       "TI3410.PV    52.908773   -6.0000  212.0000   57.781763\n",
       "TI3411A.PV   71.273297   -4.0000  120.0000   57.781763\n",
       "TI3411B.PV   66.387612   -4.0000  120.0000   57.781763\n",
       "TI3411C.PV   61.496080   -4.0000  120.0000   57.781763\n",
       "TI3412A.PV   38.210953   -4.0000  120.0000   57.781763\n",
       "TI3412B.PV   32.442388   -4.0000  120.0000   57.781763"
      ]
     },
     "execution_count": 14,
     "metadata": {},
     "output_type": "execute_result"
    }
   ],
   "source": [
    "estatisticas(df[df.columns[~df.columns.str.contains('_quality')]])"
   ]
  },
  {
   "cell_type": "markdown",
   "metadata": {},
   "source": [
    "#### 4.3. Anos das tags"
   ]
  },
  {
   "cell_type": "code",
   "execution_count": 15,
   "metadata": {},
   "outputs": [],
   "source": [
    "# criando um dataframe novo cujo index são os anos\n",
    "df_ano = df.copy()\n",
    "df_ano.index = df_ano.index.year"
   ]
  },
  {
   "cell_type": "code",
   "execution_count": 16,
   "metadata": {},
   "outputs": [],
   "source": [
    "# removendo as colunas de qualidade\n",
    "df_ano_numerico = df_ano[df_ano.columns[~df_ano.columns.str.contains('_quality')]]"
   ]
  },
  {
   "cell_type": "code",
   "execution_count": 17,
   "metadata": {
    "scrolled": true
   },
   "outputs": [
    {
     "data": {
      "text/plain": [
       "<matplotlib.axes._subplots.AxesSubplot at 0x236989d7048>"
      ]
     },
     "execution_count": 17,
     "metadata": {},
     "output_type": "execute_result"
    },
    {
     "data": {
      "image/png": "[encoded data removed]",
      "text/plain": [
       "<Figure size 432x288 with 1 Axes>"
      ]
     },
     "metadata": {
      "needs_background": "light"
     },
     "output_type": "display_data"
    }
   ],
   "source": [
    "tempo = time.time()\n",
    "sns.heatmap(df_ano_numerico.isnull(), cbar = False)"
   ]
  },
  {
   "cell_type": "code",
   "execution_count": 18,
   "metadata": {},
   "outputs": [
    {
     "data": {
      "text/plain": [
       "115.95736122131348"
      ]
     },
     "execution_count": 18,
     "metadata": {},
     "output_type": "execute_result"
    }
   ],
   "source": [
    "time.time() - tempo"
   ]
  },
  {
   "cell_type": "markdown",
   "metadata": {},
   "source": [
    "#### 4.4. Análises de qualidade"
   ]
  },
  {
   "cell_type": "code",
   "execution_count": 19,
   "metadata": {
    "scrolled": true
   },
   "outputs": [
    {
     "name": "stdout",
     "output_type": "stream",
     "text": [
      "TI2401.PV_quality\n",
      "Qtd good: 4988239       Qtd bad: 49337       Good Percent: 99.02 \n",
      "\n",
      "TI2601.PV_quality\n",
      "Qtd good: 4981802       Qtd bad: 55774       Good Percent: 98.89 \n",
      "\n",
      "TI3401.PV_quality\n",
      "Qtd good: 2341628       Qtd bad: 29817       Good Percent: 98.74 \n",
      "\n",
      "TI3402.PV_quality\n",
      "Qtd good: 2341603       Qtd bad: 29842       Good Percent: 98.74 \n",
      "\n",
      "TI3403.PV_quality\n",
      "Qtd good: 2341603       Qtd bad: 29842       Good Percent: 98.74 \n",
      "\n",
      "TI3404.PV_quality\n",
      "Qtd good: 2341603       Qtd bad: 29842       Good Percent: 98.74 \n",
      "\n",
      "TI3405.PV_quality\n",
      "Qtd good: 1983152       Qtd bad: 3534339       Good Percent: 35.94 \n",
      "\n",
      "TI3406.PV_quality\n",
      "Qtd good: 2061655       Qtd bad: 3455836       Good Percent: 37.37 \n",
      "\n",
      "TI3407.PV_quality\n",
      "Qtd good: 2050618       Qtd bad: 3466873       Good Percent: 37.17 \n",
      "\n",
      "TI3408.PV_quality\n",
      "Qtd good: 1986405       Qtd bad: 3531086       Good Percent: 36.00 \n",
      "\n",
      "TI3409.PV_quality\n",
      "Qtd good: 2180114       Qtd bad: 191331       Good Percent: 91.93 \n",
      "\n",
      "TI3410.PV_quality\n",
      "Qtd good: 2341603       Qtd bad: 29842       Good Percent: 98.74 \n",
      "\n",
      "TI3411A.PV_quality\n",
      "Qtd good: 2299112       Qtd bad: 72333       Good Percent: 96.95 \n",
      "\n",
      "TI3411B.PV_quality\n",
      "Qtd good: 2309452       Qtd bad: 61993       Good Percent: 97.39 \n",
      "\n",
      "TI3411C.PV_quality\n",
      "Qtd good: 2278423       Qtd bad: 93022       Good Percent: 96.08 \n",
      "\n",
      "TI3412A.PV_quality\n",
      "Qtd good: 2301207       Qtd bad: 70238       Good Percent: 97.04 \n",
      "\n",
      "TI3412B.PV_quality\n",
      "Qtd good: 2302636       Qtd bad: 68809       Good Percent: 97.10 \n",
      "\n"
     ]
    }
   ],
   "source": [
    "qualidade(df)"
   ]
  },
  {
   "cell_type": "markdown",
   "metadata": {},
   "source": [
    "Qualidadade das tags 'TI3405.PV', 'TI3406.PV', 'TI3407.PV' e 'TI3408.PV' é preocupante."
   ]
  },
  {
   "cell_type": "markdown",
   "metadata": {},
   "source": [
    "### 5. Pressão"
   ]
  },
  {
   "cell_type": "markdown",
   "metadata": {},
   "source": [
    "#### 5.1. Lendo as tags"
   ]
  },
  {
   "cell_type": "code",
   "execution_count": 20,
   "metadata": {},
   "outputs": [
    {
     "name": "stdout",
     "output_type": "stream",
     "text": [
      "Processando TAG: PDI3413.PV\n",
      "Processando TAG: PDI3414.PV\n",
      "Processando TAG: PI3401.PV\n",
      "Processando TAG: PI3406.PV\n",
      "Processando TAG: PI3417.PV\n",
      "Processando TAG: PIC3002.MODE\n",
      "Processando TAG: PIC3002.OUT\n",
      "Processando TAG: PIC3002.PV\n",
      "Processando TAG: PIC3002.SP\n",
      "Concatenando...\n",
      "Feito!\n"
     ]
    }
   ],
   "source": [
    "df = read_tags(pressao, path(''))\n",
    "df.to_csv(path_3('df_pressao.csv.gz'), compression = 'gzip')"
   ]
  },
  {
   "cell_type": "markdown",
   "metadata": {},
   "source": [
    "#### 5.2. Análises estatísticas"
   ]
  },
  {
   "cell_type": "code",
   "execution_count": 21,
   "metadata": {},
   "outputs": [
    {
     "data": {
      "text/html": [
       "<div>\n",
       "<style scoped>\n",
       "    .dataframe tbody tr th:only-of-type {\n",
       "        vertical-align: middle;\n",
       "    }\n",
       "\n",
       "    .dataframe tbody tr th {\n",
       "        vertical-align: top;\n",
       "    }\n",
       "\n",
       "    .dataframe thead th {\n",
       "        text-align: right;\n",
       "    }\n",
       "</style>\n",
       "<table border=\"1\" class=\"dataframe\">\n",
       "  <thead>\n",
       "    <tr style=\"text-align: right;\">\n",
       "      <th></th>\n",
       "      <th>mean</th>\n",
       "      <th>min</th>\n",
       "      <th>max</th>\n",
       "      <th>percentNan</th>\n",
       "    </tr>\n",
       "  </thead>\n",
       "  <tbody>\n",
       "    <tr>\n",
       "      <th>PDI3413.PV</th>\n",
       "      <td>2.731691</td>\n",
       "      <td>-0.984</td>\n",
       "      <td>5.001</td>\n",
       "      <td>0.424142</td>\n",
       "    </tr>\n",
       "    <tr>\n",
       "      <th>PDI3414.PV</th>\n",
       "      <td>NaN</td>\n",
       "      <td>NaN</td>\n",
       "      <td>NaN</td>\n",
       "      <td>100.000000</td>\n",
       "    </tr>\n",
       "    <tr>\n",
       "      <th>PI3401.PV</th>\n",
       "      <td>1.574627</td>\n",
       "      <td>-0.558</td>\n",
       "      <td>6.180</td>\n",
       "      <td>0.424142</td>\n",
       "    </tr>\n",
       "    <tr>\n",
       "      <th>PI3406.PV</th>\n",
       "      <td>23.616342</td>\n",
       "      <td>-0.800</td>\n",
       "      <td>31.935</td>\n",
       "      <td>57.443646</td>\n",
       "    </tr>\n",
       "    <tr>\n",
       "      <th>PI3417.PV</th>\n",
       "      <td>5.122363</td>\n",
       "      <td>-1.537</td>\n",
       "      <td>9.030</td>\n",
       "      <td>0.424124</td>\n",
       "    </tr>\n",
       "    <tr>\n",
       "      <th>PIC3002.MODE</th>\n",
       "      <td>1.231496</td>\n",
       "      <td>0.000</td>\n",
       "      <td>2.000</td>\n",
       "      <td>0.000000</td>\n",
       "    </tr>\n",
       "    <tr>\n",
       "      <th>PIC3002.OUT</th>\n",
       "      <td>9.552065</td>\n",
       "      <td>0.000</td>\n",
       "      <td>100.000</td>\n",
       "      <td>0.424142</td>\n",
       "    </tr>\n",
       "    <tr>\n",
       "      <th>PIC3002.PV</th>\n",
       "      <td>1.479957</td>\n",
       "      <td>-2.499</td>\n",
       "      <td>6.004</td>\n",
       "      <td>0.424142</td>\n",
       "    </tr>\n",
       "    <tr>\n",
       "      <th>PIC3002.SP</th>\n",
       "      <td>1.431247</td>\n",
       "      <td>0.000</td>\n",
       "      <td>2.000</td>\n",
       "      <td>0.424142</td>\n",
       "    </tr>\n",
       "  </tbody>\n",
       "</table>\n",
       "</div>"
      ],
      "text/plain": [
       "                   mean    min      max  percentNan\n",
       "PDI3413.PV     2.731691 -0.984    5.001    0.424142\n",
       "PDI3414.PV          NaN    NaN      NaN  100.000000\n",
       "PI3401.PV      1.574627 -0.558    6.180    0.424142\n",
       "PI3406.PV     23.616342 -0.800   31.935   57.443646\n",
       "PI3417.PV      5.122363 -1.537    9.030    0.424124\n",
       "PIC3002.MODE   1.231496  0.000    2.000    0.000000\n",
       "PIC3002.OUT    9.552065  0.000  100.000    0.424142\n",
       "PIC3002.PV     1.479957 -2.499    6.004    0.424142\n",
       "PIC3002.SP     1.431247  0.000    2.000    0.424142"
      ]
     },
     "execution_count": 21,
     "metadata": {},
     "output_type": "execute_result"
    }
   ],
   "source": [
    "estatisticas(df[df.columns[~df.columns.str.contains('_quality')]])"
   ]
  },
  {
   "cell_type": "markdown",
   "metadata": {},
   "source": [
    "A tag 'PDI3414.PV' está totalmente vazia, uma vez que todos os seus valores são '??????????'."
   ]
  },
  {
   "cell_type": "markdown",
   "metadata": {},
   "source": [
    "#### 5.3. Anos das tags"
   ]
  },
  {
   "cell_type": "code",
   "execution_count": 22,
   "metadata": {},
   "outputs": [],
   "source": [
    "# criando um dataframe novo cujo index são os anos\n",
    "df_ano = df.copy()\n",
    "df_ano.index = df_ano.index.year"
   ]
  },
  {
   "cell_type": "code",
   "execution_count": 23,
   "metadata": {},
   "outputs": [],
   "source": [
    "# removendo as colunas de qualidade\n",
    "df_ano_numerico = df_ano[df_ano.columns[~df_ano.columns.str.contains('_quality')]]"
   ]
  },
  {
   "cell_type": "code",
   "execution_count": 24,
   "metadata": {
    "scrolled": true
   },
   "outputs": [
    {
     "data": {
      "text/plain": [
       "<matplotlib.axes._subplots.AxesSubplot at 0x236f7919f98>"
      ]
     },
     "execution_count": 24,
     "metadata": {},
     "output_type": "execute_result"
    },
    {
     "data": {
      "image/png": "[encoded data removed]",
      "text/plain": [
       "<Figure size 432x288 with 1 Axes>"
      ]
     },
     "metadata": {
      "needs_background": "light"
     },
     "output_type": "display_data"
    }
   ],
   "source": [
    "tempo = time.time()\n",
    "sns.heatmap(df_ano_numerico.isnull(), cbar = False)"
   ]
  },
  {
   "cell_type": "markdown",
   "metadata": {},
   "source": [
    "Como dito anteriormente, a tag 'PDI3414.PV' está totalmente vazia, uma vez que todos os seus valores são '??????????'."
   ]
  },
  {
   "cell_type": "code",
   "execution_count": 25,
   "metadata": {},
   "outputs": [
    {
     "data": {
      "text/plain": [
       "63.89357948303223"
      ]
     },
     "execution_count": 25,
     "metadata": {},
     "output_type": "execute_result"
    }
   ],
   "source": [
    "time.time() - tempo"
   ]
  },
  {
   "cell_type": "markdown",
   "metadata": {},
   "source": [
    "#### 5.4. Análises de qualidade"
   ]
  },
  {
   "cell_type": "code",
   "execution_count": 26,
   "metadata": {},
   "outputs": [
    {
     "name": "stdout",
     "output_type": "stream",
     "text": [
      "PDI3413.PV_quality\n",
      "Qtd good: 5311952       Qtd bad: 205539       Good Percent: 96.27 \n",
      "\n",
      "PDI3414.PV_quality\n",
      "Qtd good: 0       Qtd bad: 5517491       Good Percent: 0.00 \n",
      "\n",
      "PI3401.PV_quality\n",
      "Qtd good: 5466696       Qtd bad: 50795       Good Percent: 99.08 \n",
      "\n",
      "PI3406.PV_quality\n",
      "Qtd good: 2341395       Qtd bad: 30050       Good Percent: 98.73 \n",
      "\n",
      "PI3417.PV_quality\n",
      "Qtd good: 5462520       Qtd bad: 54971       Good Percent: 99.00 \n",
      "\n",
      "PIC3002.MODE_quality\n",
      "Qtd good: 5203706       Qtd bad: 313785       Good Percent: 94.31 \n",
      "\n",
      "PIC3002.OUT_quality\n",
      "Qtd good: 5467632       Qtd bad: 49859       Good Percent: 99.10 \n",
      "\n",
      "PIC3002.PV_quality\n",
      "Qtd good: 5467587       Qtd bad: 49904       Good Percent: 99.10 \n",
      "\n",
      "PIC3002.SP_quality\n",
      "Qtd good: 5467672       Qtd bad: 49819       Good Percent: 99.10 \n",
      "\n"
     ]
    }
   ],
   "source": [
    "qualidade(df)"
   ]
  },
  {
   "cell_type": "markdown",
   "metadata": {},
   "source": [
    "Como todos os valores de 'PDI3414.PV' são '??????????', todos eles foram classificados como 'Bad'."
   ]
  },
  {
   "cell_type": "markdown",
   "metadata": {},
   "source": [
    "### 6. Vibração"
   ]
  },
  {
   "cell_type": "markdown",
   "metadata": {},
   "source": [
    "#### 6.1. Lendo tags"
   ]
  },
  {
   "cell_type": "code",
   "execution_count": 27,
   "metadata": {},
   "outputs": [
    {
     "name": "stdout",
     "output_type": "stream",
     "text": [
      "Processando TAG: XA3401.PV\n",
      "Processando TAG: XI3403.PV\n",
      "Processando TAG: XI3404.PV\n",
      "Processando TAG: XI3405.PV\n",
      "Processando TAG: XI3406.PV\n",
      "Concatenando...\n",
      "Feito!\n"
     ]
    }
   ],
   "source": [
    "df = read_tags(vibracao, path(''))\n",
    "df.to_csv(path_3('df_vibracao.csv.gz'), compression = 'gzip')"
   ]
  },
  {
   "cell_type": "markdown",
   "metadata": {},
   "source": [
    "#### 6.2. Análises estatísticas"
   ]
  },
  {
   "cell_type": "code",
   "execution_count": 28,
   "metadata": {},
   "outputs": [
    {
     "data": {
      "text/html": [
       "<div>\n",
       "<style scoped>\n",
       "    .dataframe tbody tr th:only-of-type {\n",
       "        vertical-align: middle;\n",
       "    }\n",
       "\n",
       "    .dataframe tbody tr th {\n",
       "        vertical-align: top;\n",
       "    }\n",
       "\n",
       "    .dataframe thead th {\n",
       "        text-align: right;\n",
       "    }\n",
       "</style>\n",
       "<table border=\"1\" class=\"dataframe\">\n",
       "  <thead>\n",
       "    <tr style=\"text-align: right;\">\n",
       "      <th></th>\n",
       "      <th>mean</th>\n",
       "      <th>min</th>\n",
       "      <th>max</th>\n",
       "      <th>percentNan</th>\n",
       "    </tr>\n",
       "  </thead>\n",
       "  <tbody>\n",
       "    <tr>\n",
       "      <th>XA3401.PV</th>\n",
       "      <td>NaN</td>\n",
       "      <td>NaN</td>\n",
       "      <td>NaN</td>\n",
       "      <td>100.000000</td>\n",
       "    </tr>\n",
       "    <tr>\n",
       "      <th>XI3403.PV</th>\n",
       "      <td>4.413410</td>\n",
       "      <td>-0.4</td>\n",
       "      <td>19.866</td>\n",
       "      <td>57.443628</td>\n",
       "    </tr>\n",
       "    <tr>\n",
       "      <th>XI3404.PV</th>\n",
       "      <td>5.201737</td>\n",
       "      <td>-0.4</td>\n",
       "      <td>19.871</td>\n",
       "      <td>57.443628</td>\n",
       "    </tr>\n",
       "    <tr>\n",
       "      <th>XI3405.PV</th>\n",
       "      <td>1.775360</td>\n",
       "      <td>-0.4</td>\n",
       "      <td>20.400</td>\n",
       "      <td>57.443628</td>\n",
       "    </tr>\n",
       "    <tr>\n",
       "      <th>XI3406.PV</th>\n",
       "      <td>4.293753</td>\n",
       "      <td>-0.4</td>\n",
       "      <td>18.697</td>\n",
       "      <td>57.443628</td>\n",
       "    </tr>\n",
       "  </tbody>\n",
       "</table>\n",
       "</div>"
      ],
      "text/plain": [
       "               mean  min     max  percentNan\n",
       "XA3401.PV       NaN  NaN     NaN  100.000000\n",
       "XI3403.PV  4.413410 -0.4  19.866   57.443628\n",
       "XI3404.PV  5.201737 -0.4  19.871   57.443628\n",
       "XI3405.PV  1.775360 -0.4  20.400   57.443628\n",
       "XI3406.PV  4.293753 -0.4  18.697   57.443628"
      ]
     },
     "execution_count": 28,
     "metadata": {},
     "output_type": "execute_result"
    }
   ],
   "source": [
    "estatisticas(df[df.columns[~df.columns.str.contains('_quality')]])"
   ]
  },
  {
   "cell_type": "markdown",
   "metadata": {},
   "source": [
    "A tag 'XA3401.PV' está vazia, uma vez que todos os seus valores são 'ALARME'."
   ]
  },
  {
   "cell_type": "markdown",
   "metadata": {},
   "source": [
    "#### 6.3. Anos das tags"
   ]
  },
  {
   "cell_type": "code",
   "execution_count": 29,
   "metadata": {},
   "outputs": [],
   "source": [
    "# criando um dataframe novo cujo index são os anos\n",
    "df_ano = df.copy()\n",
    "df_ano.index = df_ano.index.year"
   ]
  },
  {
   "cell_type": "code",
   "execution_count": 30,
   "metadata": {},
   "outputs": [],
   "source": [
    "# removendo as colunas de qualidade\n",
    "df_ano_numerico = df_ano[df_ano.columns[~df_ano.columns.str.contains('_quality')]]"
   ]
  },
  {
   "cell_type": "code",
   "execution_count": 31,
   "metadata": {},
   "outputs": [
    {
     "data": {
      "text/plain": [
       "<matplotlib.axes._subplots.AxesSubplot at 0x236b81cc7f0>"
      ]
     },
     "execution_count": 31,
     "metadata": {},
     "output_type": "execute_result"
    },
    {
     "data": {
      "image/png": "[encoded data removed]",
      "text/plain": [
       "<Figure size 432x288 with 1 Axes>"
      ]
     },
     "metadata": {
      "needs_background": "light"
     },
     "output_type": "display_data"
    }
   ],
   "source": [
    "tempo = time.time()\n",
    "sns.heatmap(df_ano_numerico.isnull(), cbar = False)"
   ]
  },
  {
   "cell_type": "code",
   "execution_count": 32,
   "metadata": {},
   "outputs": [
    {
     "data": {
      "text/plain": [
       "34.52044630050659"
      ]
     },
     "execution_count": 32,
     "metadata": {},
     "output_type": "execute_result"
    }
   ],
   "source": [
    "time.time() - tempo"
   ]
  },
  {
   "cell_type": "markdown",
   "metadata": {},
   "source": [
    "#### 6.4. Análises de qualidade"
   ]
  },
  {
   "cell_type": "code",
   "execution_count": 33,
   "metadata": {},
   "outputs": [
    {
     "name": "stdout",
     "output_type": "stream",
     "text": [
      "XA3401.PV_quality\n",
      "Qtd good: 5257868       Qtd bad: 259623       Good Percent: 95.29 \n",
      "\n",
      "XI3403.PV_quality\n",
      "Qtd good: 2342629       Qtd bad: 28816       Good Percent: 98.78 \n",
      "\n",
      "XI3404.PV_quality\n",
      "Qtd good: 2342629       Qtd bad: 28816       Good Percent: 98.78 \n",
      "\n",
      "XI3405.PV_quality\n",
      "Qtd good: 2342629       Qtd bad: 28816       Good Percent: 98.78 \n",
      "\n",
      "XI3406.PV_quality\n",
      "Qtd good: 2342629       Qtd bad: 28816       Good Percent: 98.78 \n",
      "\n"
     ]
    }
   ],
   "source": [
    "qualidade(df)"
   ]
  },
  {
   "cell_type": "markdown",
   "metadata": {},
   "source": [
    "### 7. Vazão"
   ]
  },
  {
   "cell_type": "markdown",
   "metadata": {},
   "source": [
    "#### 7.1. Lendo tags"
   ]
  },
  {
   "cell_type": "code",
   "execution_count": 34,
   "metadata": {},
   "outputs": [
    {
     "name": "stdout",
     "output_type": "stream",
     "text": [
      "Processando TAG: FI3402.PV\n",
      "Processando TAG: FIC2601.MODE\n",
      "Processando TAG: FIC2601.OUT\n",
      "Processando TAG: FIC2601.PV\n",
      "Processando TAG: FIC2601.SP\n",
      "Concatenando...\n",
      "Feito!\n"
     ]
    }
   ],
   "source": [
    "df = read_tags(vazao, path(''))\n",
    "df.to_csv(path_3('df_vazao.csv.gz'), compression = 'gzip')"
   ]
  },
  {
   "cell_type": "markdown",
   "metadata": {},
   "source": [
    "#### 7.2. Análises estatísticas"
   ]
  },
  {
   "cell_type": "code",
   "execution_count": 35,
   "metadata": {},
   "outputs": [
    {
     "data": {
      "text/html": [
       "<div>\n",
       "<style scoped>\n",
       "    .dataframe tbody tr th:only-of-type {\n",
       "        vertical-align: middle;\n",
       "    }\n",
       "\n",
       "    .dataframe tbody tr th {\n",
       "        vertical-align: top;\n",
       "    }\n",
       "\n",
       "    .dataframe thead th {\n",
       "        text-align: right;\n",
       "    }\n",
       "</style>\n",
       "<table border=\"1\" class=\"dataframe\">\n",
       "  <thead>\n",
       "    <tr style=\"text-align: right;\">\n",
       "      <th></th>\n",
       "      <th>mean</th>\n",
       "      <th>min</th>\n",
       "      <th>max</th>\n",
       "      <th>percentNan</th>\n",
       "    </tr>\n",
       "  </thead>\n",
       "  <tbody>\n",
       "    <tr>\n",
       "      <th>FI3402.PV</th>\n",
       "      <td>8.647621</td>\n",
       "      <td>0.0</td>\n",
       "      <td>25.413</td>\n",
       "      <td>0.424142</td>\n",
       "    </tr>\n",
       "    <tr>\n",
       "      <th>FIC2601.MODE</th>\n",
       "      <td>1.151987</td>\n",
       "      <td>0.0</td>\n",
       "      <td>5.000</td>\n",
       "      <td>0.000000</td>\n",
       "    </tr>\n",
       "    <tr>\n",
       "      <th>FIC2601.OUT</th>\n",
       "      <td>22.912759</td>\n",
       "      <td>0.0</td>\n",
       "      <td>100.000</td>\n",
       "      <td>0.424142</td>\n",
       "    </tr>\n",
       "    <tr>\n",
       "      <th>FIC2601.PV</th>\n",
       "      <td>8.458121</td>\n",
       "      <td>-2.8</td>\n",
       "      <td>14.337</td>\n",
       "      <td>0.424142</td>\n",
       "    </tr>\n",
       "    <tr>\n",
       "      <th>FIC2601.SP</th>\n",
       "      <td>8.224742</td>\n",
       "      <td>0.0</td>\n",
       "      <td>14.000</td>\n",
       "      <td>0.424142</td>\n",
       "    </tr>\n",
       "  </tbody>\n",
       "</table>\n",
       "</div>"
      ],
      "text/plain": [
       "                   mean  min      max  percentNan\n",
       "FI3402.PV      8.647621  0.0   25.413    0.424142\n",
       "FIC2601.MODE   1.151987  0.0    5.000    0.000000\n",
       "FIC2601.OUT   22.912759  0.0  100.000    0.424142\n",
       "FIC2601.PV     8.458121 -2.8   14.337    0.424142\n",
       "FIC2601.SP     8.224742  0.0   14.000    0.424142"
      ]
     },
     "execution_count": 35,
     "metadata": {},
     "output_type": "execute_result"
    }
   ],
   "source": [
    "estatisticas(df[df.columns[~df.columns.str.contains('_quality')]])"
   ]
  },
  {
   "cell_type": "markdown",
   "metadata": {},
   "source": [
    "#### 7.3. Anos das tags"
   ]
  },
  {
   "cell_type": "code",
   "execution_count": 36,
   "metadata": {},
   "outputs": [],
   "source": [
    "# criando um dataframe novo cujo index são os anos\n",
    "df_ano = df.copy()\n",
    "df_ano.index = df_ano.index.year"
   ]
  },
  {
   "cell_type": "code",
   "execution_count": 37,
   "metadata": {},
   "outputs": [],
   "source": [
    "# removendo as colunas de qualidade\n",
    "df_ano_numerico = df_ano[df_ano.columns[~df_ano.columns.str.contains('_quality')]]"
   ]
  },
  {
   "cell_type": "code",
   "execution_count": 38,
   "metadata": {},
   "outputs": [
    {
     "data": {
      "text/plain": [
       "<matplotlib.axes._subplots.AxesSubplot at 0x236b123ecc0>"
      ]
     },
     "execution_count": 38,
     "metadata": {},
     "output_type": "execute_result"
    },
    {
     "data": {
      "image/png": "[encoded data removed]",
      "text/plain": [
       "<Figure size 432x288 with 1 Axes>"
      ]
     },
     "metadata": {
      "needs_background": "light"
     },
     "output_type": "display_data"
    }
   ],
   "source": [
    "tempo = time.time()\n",
    "sns.heatmap(df_ano_numerico.isnull(), cbar = False)"
   ]
  },
  {
   "cell_type": "code",
   "execution_count": 39,
   "metadata": {},
   "outputs": [
    {
     "data": {
      "text/plain": [
       "33.09268140792847"
      ]
     },
     "execution_count": 39,
     "metadata": {},
     "output_type": "execute_result"
    }
   ],
   "source": [
    "time.time() - tempo"
   ]
  },
  {
   "cell_type": "markdown",
   "metadata": {},
   "source": [
    "#### 7.4. Análises de qualidade"
   ]
  },
  {
   "cell_type": "code",
   "execution_count": 40,
   "metadata": {},
   "outputs": [
    {
     "name": "stdout",
     "output_type": "stream",
     "text": [
      "FI3402.PV_quality\n",
      "Qtd good: 5422931       Qtd bad: 94560       Good Percent: 98.29 \n",
      "\n",
      "FIC2601.MODE_quality\n",
      "Qtd good: 5317062       Qtd bad: 200429       Good Percent: 96.37 \n",
      "\n",
      "FIC2601.OUT_quality\n",
      "Qtd good: 5458193       Qtd bad: 59298       Good Percent: 98.93 \n",
      "\n",
      "FIC2601.PV_quality\n",
      "Qtd good: 5458099       Qtd bad: 59392       Good Percent: 98.92 \n",
      "\n",
      "FIC2601.SP_quality\n",
      "Qtd good: 5458193       Qtd bad: 59298       Good Percent: 98.93 \n",
      "\n"
     ]
    }
   ],
   "source": [
    "qualidade(df)"
   ]
  },
  {
   "cell_type": "markdown",
   "metadata": {},
   "source": [
    "### 8. Fração molar dos gases"
   ]
  },
  {
   "cell_type": "markdown",
   "metadata": {},
   "source": [
    "#### 8.1. Lendo tags"
   ]
  },
  {
   "cell_type": "code",
   "execution_count": 41,
   "metadata": {},
   "outputs": [
    {
     "name": "stdout",
     "output_type": "stream",
     "text": [
      "Processando TAG: AI23212.PV\n",
      "Processando TAG: AI23422.PV\n",
      "Processando TAG: AI23432.PV\n",
      "Processando TAG: AI23442.PV\n",
      "Processando TAG: AI23452.PV\n",
      "Processando TAG: AI23462.PV\n",
      "Processando TAG: AI23472.PV\n",
      "Processando TAG: AI23482.PV\n",
      "Processando TAG: AI23492.PV\n",
      "Processando TAG: AI25121.PV\n",
      "Processando TAG: AI25131.PV\n",
      "Processando TAG: AI25141.PV\n",
      "Processando TAG: AI25151.PV\n",
      "Processando TAG: AI25161.PV\n",
      "Processando TAG: AI25171.PV\n",
      "Processando TAG: AI25181.PV\n",
      "Processando TAG: AI25191.PV\n",
      "Processando TAG: AI25211.PV\n",
      "Concatenando...\n",
      "Feito!\n"
     ]
    }
   ],
   "source": [
    "df = read_tags(gas, path(''))\n",
    "df.to_csv(path_3('df_gas.csv.gz'), compression = 'gzip')"
   ]
  },
  {
   "cell_type": "markdown",
   "metadata": {},
   "source": [
    "#### 8.2. Análises estatísticas"
   ]
  },
  {
   "cell_type": "code",
   "execution_count": 42,
   "metadata": {},
   "outputs": [
    {
     "data": {
      "text/html": [
       "<div>\n",
       "<style scoped>\n",
       "    .dataframe tbody tr th:only-of-type {\n",
       "        vertical-align: middle;\n",
       "    }\n",
       "\n",
       "    .dataframe tbody tr th {\n",
       "        vertical-align: top;\n",
       "    }\n",
       "\n",
       "    .dataframe thead th {\n",
       "        text-align: right;\n",
       "    }\n",
       "</style>\n",
       "<table border=\"1\" class=\"dataframe\">\n",
       "  <thead>\n",
       "    <tr style=\"text-align: right;\">\n",
       "      <th></th>\n",
       "      <th>mean</th>\n",
       "      <th>min</th>\n",
       "      <th>max</th>\n",
       "      <th>percentNan</th>\n",
       "    </tr>\n",
       "  </thead>\n",
       "  <tbody>\n",
       "    <tr>\n",
       "      <th>AI23212.PV</th>\n",
       "      <td>7.317609</td>\n",
       "      <td>0.000</td>\n",
       "      <td>50.000</td>\n",
       "      <td>0.860681</td>\n",
       "    </tr>\n",
       "    <tr>\n",
       "      <th>AI23422.PV</th>\n",
       "      <td>27.722772</td>\n",
       "      <td>0.000</td>\n",
       "      <td>65.625</td>\n",
       "      <td>0.424142</td>\n",
       "    </tr>\n",
       "    <tr>\n",
       "      <th>AI23432.PV</th>\n",
       "      <td>9.944734</td>\n",
       "      <td>0.000</td>\n",
       "      <td>36.758</td>\n",
       "      <td>0.424160</td>\n",
       "    </tr>\n",
       "    <tr>\n",
       "      <th>AI23442.PV</th>\n",
       "      <td>0.058632</td>\n",
       "      <td>0.000</td>\n",
       "      <td>10.000</td>\n",
       "      <td>0.424160</td>\n",
       "    </tr>\n",
       "    <tr>\n",
       "      <th>AI23452.PV</th>\n",
       "      <td>35.623032</td>\n",
       "      <td>0.000</td>\n",
       "      <td>100.000</td>\n",
       "      <td>0.424160</td>\n",
       "    </tr>\n",
       "    <tr>\n",
       "      <th>AI23462.PV</th>\n",
       "      <td>7.563998</td>\n",
       "      <td>0.000</td>\n",
       "      <td>35.000</td>\n",
       "      <td>0.424160</td>\n",
       "    </tr>\n",
       "    <tr>\n",
       "      <th>AI23472.PV</th>\n",
       "      <td>0.492110</td>\n",
       "      <td>0.000</td>\n",
       "      <td>10.000</td>\n",
       "      <td>0.424160</td>\n",
       "    </tr>\n",
       "    <tr>\n",
       "      <th>AI23482.PV</th>\n",
       "      <td>3.990861</td>\n",
       "      <td>0.000</td>\n",
       "      <td>20.000</td>\n",
       "      <td>0.424142</td>\n",
       "    </tr>\n",
       "    <tr>\n",
       "      <th>AI23492.PV</th>\n",
       "      <td>0.247754</td>\n",
       "      <td>0.000</td>\n",
       "      <td>20.000</td>\n",
       "      <td>0.424142</td>\n",
       "    </tr>\n",
       "    <tr>\n",
       "      <th>AI25121.PV</th>\n",
       "      <td>25.587503</td>\n",
       "      <td>0.000</td>\n",
       "      <td>70.000</td>\n",
       "      <td>0.424142</td>\n",
       "    </tr>\n",
       "    <tr>\n",
       "      <th>AI25131.PV</th>\n",
       "      <td>9.086096</td>\n",
       "      <td>-27.029</td>\n",
       "      <td>50.000</td>\n",
       "      <td>0.424160</td>\n",
       "    </tr>\n",
       "    <tr>\n",
       "      <th>AI25141.PV</th>\n",
       "      <td>0.044510</td>\n",
       "      <td>0.000</td>\n",
       "      <td>10.000</td>\n",
       "      <td>0.424160</td>\n",
       "    </tr>\n",
       "    <tr>\n",
       "      <th>AI25151.PV</th>\n",
       "      <td>30.743657</td>\n",
       "      <td>-11.554</td>\n",
       "      <td>100.000</td>\n",
       "      <td>0.424160</td>\n",
       "    </tr>\n",
       "    <tr>\n",
       "      <th>AI25161.PV</th>\n",
       "      <td>6.932162</td>\n",
       "      <td>0.000</td>\n",
       "      <td>35.000</td>\n",
       "      <td>0.424160</td>\n",
       "    </tr>\n",
       "    <tr>\n",
       "      <th>AI25171.PV</th>\n",
       "      <td>0.505975</td>\n",
       "      <td>-5.268</td>\n",
       "      <td>10.000</td>\n",
       "      <td>0.424160</td>\n",
       "    </tr>\n",
       "    <tr>\n",
       "      <th>AI25181.PV</th>\n",
       "      <td>3.551924</td>\n",
       "      <td>-2.824</td>\n",
       "      <td>20.000</td>\n",
       "      <td>0.424142</td>\n",
       "    </tr>\n",
       "    <tr>\n",
       "      <th>AI25191.PV</th>\n",
       "      <td>0.199784</td>\n",
       "      <td>0.000</td>\n",
       "      <td>10.000</td>\n",
       "      <td>0.424142</td>\n",
       "    </tr>\n",
       "    <tr>\n",
       "      <th>AI25211.PV</th>\n",
       "      <td>7.993382</td>\n",
       "      <td>0.000</td>\n",
       "      <td>50.000</td>\n",
       "      <td>0.860681</td>\n",
       "    </tr>\n",
       "  </tbody>\n",
       "</table>\n",
       "</div>"
      ],
      "text/plain": [
       "                 mean     min      max  percentNan\n",
       "AI23212.PV   7.317609   0.000   50.000    0.860681\n",
       "AI23422.PV  27.722772   0.000   65.625    0.424142\n",
       "AI23432.PV   9.944734   0.000   36.758    0.424160\n",
       "AI23442.PV   0.058632   0.000   10.000    0.424160\n",
       "AI23452.PV  35.623032   0.000  100.000    0.424160\n",
       "AI23462.PV   7.563998   0.000   35.000    0.424160\n",
       "AI23472.PV   0.492110   0.000   10.000    0.424160\n",
       "AI23482.PV   3.990861   0.000   20.000    0.424142\n",
       "AI23492.PV   0.247754   0.000   20.000    0.424142\n",
       "AI25121.PV  25.587503   0.000   70.000    0.424142\n",
       "AI25131.PV   9.086096 -27.029   50.000    0.424160\n",
       "AI25141.PV   0.044510   0.000   10.000    0.424160\n",
       "AI25151.PV  30.743657 -11.554  100.000    0.424160\n",
       "AI25161.PV   6.932162   0.000   35.000    0.424160\n",
       "AI25171.PV   0.505975  -5.268   10.000    0.424160\n",
       "AI25181.PV   3.551924  -2.824   20.000    0.424142\n",
       "AI25191.PV   0.199784   0.000   10.000    0.424142\n",
       "AI25211.PV   7.993382   0.000   50.000    0.860681"
      ]
     },
     "execution_count": 42,
     "metadata": {},
     "output_type": "execute_result"
    }
   ],
   "source": [
    "estatisticas(df[df.columns[~df.columns.str.contains('_quality')]])"
   ]
  },
  {
   "cell_type": "markdown",
   "metadata": {},
   "source": [
    "#### 8.3. Anos das tags"
   ]
  },
  {
   "cell_type": "code",
   "execution_count": 43,
   "metadata": {},
   "outputs": [],
   "source": [
    "# criando um dataframe novo cujo index são os anos\n",
    "df_ano = df.copy()\n",
    "df_ano.index = df_ano.index.year"
   ]
  },
  {
   "cell_type": "code",
   "execution_count": 44,
   "metadata": {},
   "outputs": [],
   "source": [
    "# removendo as colunas de qualidade\n",
    "df_ano_numerico = df_ano[df_ano.columns[~df_ano.columns.str.contains('_quality')]]"
   ]
  },
  {
   "cell_type": "code",
   "execution_count": 45,
   "metadata": {},
   "outputs": [
    {
     "data": {
      "text/plain": [
       "<matplotlib.axes._subplots.AxesSubplot at 0x236a6a23710>"
      ]
     },
     "execution_count": 45,
     "metadata": {},
     "output_type": "execute_result"
    },
    {
     "data": {
      "image/png": "[encoded data removed]",
      "text/plain": [
       "<Figure size 432x288 with 1 Axes>"
      ]
     },
     "metadata": {
      "needs_background": "light"
     },
     "output_type": "display_data"
    }
   ],
   "source": [
    "tempo = time.time()\n",
    "sns.heatmap(df_ano_numerico.isnull(), cbar = False)"
   ]
  },
  {
   "cell_type": "code",
   "execution_count": 46,
   "metadata": {},
   "outputs": [
    {
     "data": {
      "text/plain": [
       "142.20346879959106"
      ]
     },
     "execution_count": 46,
     "metadata": {},
     "output_type": "execute_result"
    }
   ],
   "source": [
    "time.time() - tempo"
   ]
  },
  {
   "cell_type": "markdown",
   "metadata": {},
   "source": [
    "#### 8.4. Análises de qualidade"
   ]
  },
  {
   "cell_type": "code",
   "execution_count": 47,
   "metadata": {},
   "outputs": [
    {
     "name": "stdout",
     "output_type": "stream",
     "text": [
      "AI23212.PV_quality\n",
      "Qtd good: 5397541       Qtd bad: 119950       Good Percent: 97.83 \n",
      "\n",
      "AI23422.PV_quality\n",
      "Qtd good: 5464124       Qtd bad: 53367       Good Percent: 99.03 \n",
      "\n",
      "AI23432.PV_quality\n",
      "Qtd good: 5462934       Qtd bad: 54557       Good Percent: 99.01 \n",
      "\n",
      "AI23442.PV_quality\n",
      "Qtd good: 5462942       Qtd bad: 54549       Good Percent: 99.01 \n",
      "\n",
      "AI23452.PV_quality\n",
      "Qtd good: 5462934       Qtd bad: 54557       Good Percent: 99.01 \n",
      "\n",
      "AI23462.PV_quality\n",
      "Qtd good: 5462933       Qtd bad: 54558       Good Percent: 99.01 \n",
      "\n",
      "AI23472.PV_quality\n",
      "Qtd good: 5462950       Qtd bad: 54541       Good Percent: 99.01 \n",
      "\n",
      "AI23482.PV_quality\n",
      "Qtd good: 5453764       Qtd bad: 63727       Good Percent: 98.85 \n",
      "\n",
      "AI23492.PV_quality\n",
      "Qtd good: 5453764       Qtd bad: 63727       Good Percent: 98.85 \n",
      "\n",
      "AI25121.PV_quality\n",
      "Qtd good: 5464113       Qtd bad: 53378       Good Percent: 99.03 \n",
      "\n",
      "AI25131.PV_quality\n",
      "Qtd good: 5462929       Qtd bad: 54562       Good Percent: 99.01 \n",
      "\n",
      "AI25141.PV_quality\n",
      "Qtd good: 5462929       Qtd bad: 54562       Good Percent: 99.01 \n",
      "\n",
      "AI25151.PV_quality\n",
      "Qtd good: 5462930       Qtd bad: 54561       Good Percent: 99.01 \n",
      "\n",
      "AI25161.PV_quality\n",
      "Qtd good: 5462929       Qtd bad: 54562       Good Percent: 99.01 \n",
      "\n",
      "AI25171.PV_quality\n",
      "Qtd good: 5462928       Qtd bad: 54563       Good Percent: 99.01 \n",
      "\n",
      "AI25181.PV_quality\n",
      "Qtd good: 5453730       Qtd bad: 63761       Good Percent: 98.84 \n",
      "\n",
      "AI25191.PV_quality\n",
      "Qtd good: 5453766       Qtd bad: 63725       Good Percent: 98.85 \n",
      "\n",
      "AI25211.PV_quality\n",
      "Qtd good: 5431387       Qtd bad: 86104       Good Percent: 98.44 \n",
      "\n"
     ]
    }
   ],
   "source": [
    "qualidade(df)"
   ]
  },
  {
   "cell_type": "markdown",
   "metadata": {},
   "source": [
    "### 9. Outras"
   ]
  },
  {
   "cell_type": "markdown",
   "metadata": {},
   "source": [
    "#### 9.1. Lendo tags"
   ]
  },
  {
   "cell_type": "code",
   "execution_count": 48,
   "metadata": {},
   "outputs": [
    {
     "name": "stdout",
     "output_type": "stream",
     "text": [
      "Processando TAG: EcompC302A.PV\n",
      "Processando TAG: EpolC302A-1.PV\n",
      "Processando TAG: EpolC302A-2.PV\n",
      "Processando TAG: EpolC302A.PV\n",
      "Processando TAG: EvolC302A-1.PV\n",
      "Processando TAG: EvolC302A-2.PV\n",
      "Processando TAG: EvolC302A.PV\n",
      "Processando TAG: HeadC302A-1.PV\n",
      "Processando TAG: HeadC302A-2.PV\n",
      "Processando TAG: HeadC302A.PV\n",
      "Processando TAG: JI3401.PV\n",
      "Concatenando...\n",
      "Feito!\n"
     ]
    }
   ],
   "source": [
    "df = read_tags(outras, path(''))"
   ]
  },
  {
   "cell_type": "code",
   "execution_count": 49,
   "metadata": {},
   "outputs": [],
   "source": [
    "df.to_csv(path_3('df_outras.csv.gz'), compression = 'gzip')"
   ]
  },
  {
   "cell_type": "markdown",
   "metadata": {},
   "source": [
    "#### 9.2. Análises estatísticas"
   ]
  },
  {
   "cell_type": "code",
   "execution_count": 50,
   "metadata": {},
   "outputs": [
    {
     "data": {
      "text/html": [
       "<div>\n",
       "<style scoped>\n",
       "    .dataframe tbody tr th:only-of-type {\n",
       "        vertical-align: middle;\n",
       "    }\n",
       "\n",
       "    .dataframe tbody tr th {\n",
       "        vertical-align: top;\n",
       "    }\n",
       "\n",
       "    .dataframe thead th {\n",
       "        text-align: right;\n",
       "    }\n",
       "</style>\n",
       "<table border=\"1\" class=\"dataframe\">\n",
       "  <thead>\n",
       "    <tr style=\"text-align: right;\">\n",
       "      <th></th>\n",
       "      <th>mean</th>\n",
       "      <th>min</th>\n",
       "      <th>max</th>\n",
       "      <th>percentNan</th>\n",
       "    </tr>\n",
       "  </thead>\n",
       "  <tbody>\n",
       "    <tr>\n",
       "      <th>EcompC302A.PV</th>\n",
       "      <td>0.385641</td>\n",
       "      <td>-2.876070e+02</td>\n",
       "      <td>5.781150e+02</td>\n",
       "      <td>68.686166</td>\n",
       "    </tr>\n",
       "    <tr>\n",
       "      <th>EpolC302A-1.PV</th>\n",
       "      <td>7765.859070</td>\n",
       "      <td>-2.045700e+06</td>\n",
       "      <td>2.826330e+06</td>\n",
       "      <td>49.373166</td>\n",
       "    </tr>\n",
       "    <tr>\n",
       "      <th>EpolC302A-2.PV</th>\n",
       "      <td>9085.360153</td>\n",
       "      <td>-2.105887e+07</td>\n",
       "      <td>1.380063e+07</td>\n",
       "      <td>63.097049</td>\n",
       "    </tr>\n",
       "    <tr>\n",
       "      <th>EpolC302A.PV</th>\n",
       "      <td>4870.796340</td>\n",
       "      <td>-1.052934e+07</td>\n",
       "      <td>6.900776e+06</td>\n",
       "      <td>62.938988</td>\n",
       "    </tr>\n",
       "    <tr>\n",
       "      <th>EvolC302A-1.PV</th>\n",
       "      <td>0.475700</td>\n",
       "      <td>-1.706995e+03</td>\n",
       "      <td>1.209096e+04</td>\n",
       "      <td>2.574757</td>\n",
       "    </tr>\n",
       "    <tr>\n",
       "      <th>EvolC302A-2.PV</th>\n",
       "      <td>0.469135</td>\n",
       "      <td>-5.047424e+04</td>\n",
       "      <td>7.713598e+03</td>\n",
       "      <td>3.192121</td>\n",
       "    </tr>\n",
       "    <tr>\n",
       "      <th>EvolC302A.PV</th>\n",
       "      <td>0.470871</td>\n",
       "      <td>-2.523668e+04</td>\n",
       "      <td>6.045277e+03</td>\n",
       "      <td>3.190291</td>\n",
       "    </tr>\n",
       "    <tr>\n",
       "      <th>HeadC302A-1.PV</th>\n",
       "      <td>-51518.291883</td>\n",
       "      <td>-9.957786e+07</td>\n",
       "      <td>9.941415e+04</td>\n",
       "      <td>3.424854</td>\n",
       "    </tr>\n",
       "    <tr>\n",
       "      <th>HeadC302A-2.PV</th>\n",
       "      <td>1089.349892</td>\n",
       "      <td>-9.465806e+07</td>\n",
       "      <td>1.202972e+05</td>\n",
       "      <td>3.245769</td>\n",
       "    </tr>\n",
       "    <tr>\n",
       "      <th>HeadC302A.PV</th>\n",
       "      <td>-3292.880757</td>\n",
       "      <td>-9.965019e+07</td>\n",
       "      <td>1.097364e+05</td>\n",
       "      <td>4.053708</td>\n",
       "    </tr>\n",
       "    <tr>\n",
       "      <th>JI3401.PV</th>\n",
       "      <td>445.555393</td>\n",
       "      <td>0.000000e+00</td>\n",
       "      <td>1.071735e+03</td>\n",
       "      <td>0.424142</td>\n",
       "    </tr>\n",
       "  </tbody>\n",
       "</table>\n",
       "</div>"
      ],
      "text/plain": [
       "                        mean           min           max  percentNan\n",
       "EcompC302A.PV       0.385641 -2.876070e+02  5.781150e+02   68.686166\n",
       "EpolC302A-1.PV   7765.859070 -2.045700e+06  2.826330e+06   49.373166\n",
       "EpolC302A-2.PV   9085.360153 -2.105887e+07  1.380063e+07   63.097049\n",
       "EpolC302A.PV     4870.796340 -1.052934e+07  6.900776e+06   62.938988\n",
       "EvolC302A-1.PV      0.475700 -1.706995e+03  1.209096e+04    2.574757\n",
       "EvolC302A-2.PV      0.469135 -5.047424e+04  7.713598e+03    3.192121\n",
       "EvolC302A.PV        0.470871 -2.523668e+04  6.045277e+03    3.190291\n",
       "HeadC302A-1.PV -51518.291883 -9.957786e+07  9.941415e+04    3.424854\n",
       "HeadC302A-2.PV   1089.349892 -9.465806e+07  1.202972e+05    3.245769\n",
       "HeadC302A.PV    -3292.880757 -9.965019e+07  1.097364e+05    4.053708\n",
       "JI3401.PV         445.555393  0.000000e+00  1.071735e+03    0.424142"
      ]
     },
     "execution_count": 50,
     "metadata": {},
     "output_type": "execute_result"
    }
   ],
   "source": [
    "estatisticas(df[df.columns[~df.columns.str.contains('_quality')]])"
   ]
  },
  {
   "cell_type": "markdown",
   "metadata": {},
   "source": [
    "#### 9.3. Anos das tags"
   ]
  },
  {
   "cell_type": "code",
   "execution_count": 51,
   "metadata": {},
   "outputs": [],
   "source": [
    "# criando um dataframe novo cujo index são os anos\n",
    "df_ano = df.copy()\n",
    "df_ano.index = df_ano.index.year"
   ]
  },
  {
   "cell_type": "code",
   "execution_count": 52,
   "metadata": {},
   "outputs": [],
   "source": [
    "# removendo as colunas de qualidade\n",
    "df_ano_numerico = df_ano[df_ano.columns[~df_ano.columns.str.contains('_quality')]]"
   ]
  },
  {
   "cell_type": "code",
   "execution_count": 53,
   "metadata": {},
   "outputs": [
    {
     "data": {
      "text/plain": [
       "<matplotlib.axes._subplots.AxesSubplot at 0x236ae8ed550>"
      ]
     },
     "execution_count": 53,
     "metadata": {},
     "output_type": "execute_result"
    },
    {
     "data": {
      "image/png": "[encoded data removed]",
      "text/plain": [
       "<Figure size 432x288 with 1 Axes>"
      ]
     },
     "metadata": {
      "needs_background": "light"
     },
     "output_type": "display_data"
    }
   ],
   "source": [
    "sns.heatmap(df_ano_numerico.isnull(), cbar = False)"
   ]
  },
  {
   "cell_type": "markdown",
   "metadata": {},
   "source": [
    "#### 9.4. Análises de qualidade"
   ]
  },
  {
   "cell_type": "code",
   "execution_count": 54,
   "metadata": {},
   "outputs": [
    {
     "name": "stdout",
     "output_type": "stream",
     "text": [
      "EcompC302A.PV_quality\n",
      "Qtd good: 1719654       Qtd bad: 3797837       Good Percent: 31.17 \n",
      "\n",
      "EpolC302A-1.PV_quality\n",
      "Qtd good: 1940117       Qtd bad: 3577374       Good Percent: 35.16 \n",
      "\n",
      "EpolC302A-2.PV_quality\n",
      "Qtd good: 1864949       Qtd bad: 3652542       Good Percent: 33.80 \n",
      "\n",
      "EpolC302A.PV_quality\n",
      "Qtd good: 1774499       Qtd bad: 3742992       Good Percent: 32.16 \n",
      "\n",
      "EvolC302A-1.PV_quality\n",
      "Qtd good: 1978231       Qtd bad: 3539260       Good Percent: 35.85 \n",
      "\n",
      "EvolC302A-2.PV_quality\n",
      "Qtd good: 1897868       Qtd bad: 3619623       Good Percent: 34.40 \n",
      "\n",
      "EvolC302A.PV_quality\n",
      "Qtd good: 1877131       Qtd bad: 3640360       Good Percent: 34.02 \n",
      "\n",
      "HeadC302A-1.PV_quality\n",
      "Qtd good: 2001414       Qtd bad: 3516077       Good Percent: 36.27 \n",
      "\n",
      "HeadC302A-2.PV_quality\n",
      "Qtd good: 1897981       Qtd bad: 3619510       Good Percent: 34.40 \n",
      "\n",
      "HeadC302A.PV_quality\n",
      "Qtd good: 1876789       Qtd bad: 3640702       Good Percent: 34.02 \n",
      "\n",
      "JI3401.PV_quality\n",
      "Qtd good: 5462089       Qtd bad: 55402       Good Percent: 99.00 \n",
      "\n"
     ]
    }
   ],
   "source": [
    "qualidade(df)"
   ]
  },
  {
   "cell_type": "code",
   "execution_count": null,
   "metadata": {},
   "outputs": [],
   "source": []
  }
 ],
 "metadata": {
  "kernelspec": {
   "display_name": "Python 3",
   "language": "python",
   "name": "python3"
  },
  "language_info": {
   "codemirror_mode": {
    "name": "ipython",
    "version": 3
   },
   "file_extension": ".py",
   "mimetype": "text/x-python",
   "name": "python",
   "nbconvert_exporter": "python",
   "pygments_lexer": "ipython3",
   "version": "3.7.3"
  }
 },
 "nbformat": 4,
 "nbformat_minor": 4
}
