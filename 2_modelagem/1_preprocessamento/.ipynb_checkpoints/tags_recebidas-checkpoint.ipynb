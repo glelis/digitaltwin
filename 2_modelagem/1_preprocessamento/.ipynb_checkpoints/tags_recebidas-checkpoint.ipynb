{
 "cells": [
  {
   "cell_type": "code",
   "execution_count": 1,
   "metadata": {},
   "outputs": [],
   "source": [
    "import pandas as pd\n",
    "import os\n",
    "\n",
    "%run ..\\..\\..\\funcoes_base_global\\read_tags.py"
   ]
  },
  {
   "cell_type": "code",
   "execution_count": 2,
   "metadata": {},
   "outputs": [],
   "source": [
    "def path(name):\n",
    "    path = os.path.join('..','..','1_dados_raw','sensores','out',name)\n",
    "    return(path)\n",
    "\n",
    "def path_2(name):\n",
    "    path = os.path.join('..','..','1_dados_raw','excel',name)\n",
    "    return(path)"
   ]
  },
  {
   "cell_type": "code",
   "execution_count": 3,
   "metadata": {},
   "outputs": [],
   "source": [
    "#armazena o nome dos arquivos .csv.gz da pasta out\n",
    "\n",
    "lista_out = os.listdir(path(\"\"))\n",
    "lista_out = pd.Series(lista_out)\n",
    "lista_out = lista_out[lista_out.str.contains('.csv.gz')]\n",
    "lista_out = lista_out.str.split('.csv.gz', expand = True)\n",
    "lista_out = lista_out.drop(1, axis = 1)\n",
    "lista_out = lista_out[0].tolist()"
   ]
  },
  {
   "cell_type": "code",
   "execution_count": 4,
   "metadata": {},
   "outputs": [],
   "source": [
    "#armazena as tags solicitadas para extracao\n",
    "name = 'TAGS.xlsx'\n",
    "lista_excel = pd.read_excel(path_2(name))\n",
    "lista_excel['Tags'] = lista_excel['Tags'].str.strip()\n",
    "lista_excel = lista_excel['Tags'].tolist()"
   ]
  },
  {
   "cell_type": "code",
   "execution_count": 5,
   "metadata": {},
   "outputs": [
    {
     "name": "stdout",
     "output_type": "stream",
     "text": [
      "tags faltantes:\n",
      "\n",
      "                 0\n",
      "8    FI3202.PV-1S\n",
      "13   JI3201.PV-1S\n",
      "15  PDI3213.PV-1S\n",
      "16     PDI3214.PV\n",
      "18   PI3201.PV-1S\n",
      "21   TI3201.PV-1S\n",
      "23   TI3202.PV-1S\n",
      "26   TI3204.PV-1S\n",
      "37  TI3212A.PV-1S\n",
      "39  TI3212B.PV-1S\n",
      "43   XI3203.PV-1S\n",
      "45   XI3204.PV-1S\n",
      "47   XI3205.PV-1S\n",
      "49   XI3206.PV-1S\n",
      "50     AI23121.PV\n"
     ]
    }
   ],
   "source": [
    "#verifica tags que não vieram\n",
    "data_tags = pd.DataFrame(lista_excel)\n",
    "for tag2 in lista_out:\n",
    "    data_tags = data_tags.loc[data_tags[0] != tag2]\n",
    "    \n",
    "print('tags faltantes:\\n\\n', data_tags)"
   ]
  },
  {
   "cell_type": "code",
   "execution_count": 6,
   "metadata": {},
   "outputs": [
    {
     "name": "stderr",
     "output_type": "stream",
     "text": [
      "C:\\ProgramData\\Anaconda3\\lib\\site-packages\\IPython\\core\\interactiveshell.py:3296: DtypeWarning: Columns (1) have mixed types. Specify dtype option on import or set low_memory=False.\n",
      "  exec(code_obj, self.user_global_ns, self.user_ns)\n"
     ]
    }
   ],
   "source": [
    "df = read_tags(lista_out,path(''))\n",
    "\n",
    "for tag in lista_out:\n",
    "    print(tag)\n",
    "    df[tag] = pd.to_numeric(df[tag], errors = 'coerce')\n",
    "    \n",
    "name = 'data.csv'    \n",
    "df.to_csv(path(name))"
   ]
  },
  {
   "cell_type": "code",
   "execution_count": 6,
   "metadata": {},
   "outputs": [
    {
     "data": {
      "text/plain": [
       "['AI23131.PV',\n",
       " 'AI23141.PV',\n",
       " 'AI23151.PV',\n",
       " 'AI23161.PV',\n",
       " 'AI23171.PV',\n",
       " 'AI23181.PV',\n",
       " 'AI23191.PV',\n",
       " 'AI23211.PV',\n",
       " 'AI23421.PV',\n",
       " 'AI23431.PV',\n",
       " 'AI23441.PV',\n",
       " 'AI23451.PV',\n",
       " 'AI23461.PV',\n",
       " 'AI23471.PV',\n",
       " 'AI23481.PV',\n",
       " 'AI23491.PV',\n",
       " 'AI25211.PV',\n",
       " 'EcompC301A.PV',\n",
       " 'EpolC301A-1.PV',\n",
       " 'EpolC301A-2.PV',\n",
       " 'EpolC301A.PV',\n",
       " 'EvolC301A-1.PV',\n",
       " 'EvolC301A-2.PV',\n",
       " 'EvolC301A.PV',\n",
       " 'FI3202.PV',\n",
       " 'HeadC301A-1.PV',\n",
       " 'HeadC301A-2.PV',\n",
       " 'HeadC301A.PV',\n",
       " 'JI3201.PV',\n",
       " 'PDI3213.PV',\n",
       " 'PI3201.PV',\n",
       " 'PI3206.PV',\n",
       " 'TI3201.PV',\n",
       " 'TI3202.PV',\n",
       " 'TI3203.PV',\n",
       " 'TI3204.PV',\n",
       " 'TI3205.PV',\n",
       " 'TI3206.PV',\n",
       " 'TI3207.PV',\n",
       " 'TI3208.PV',\n",
       " 'TI3209.PV',\n",
       " 'TI3210.PV',\n",
       " 'TI3211A.PV',\n",
       " 'TI3211B.PV',\n",
       " 'TI3211C.PV',\n",
       " 'TI3212A.PV',\n",
       " 'TI3212B.PV',\n",
       " 'TI3312B.PV',\n",
       " 'XA3201.PV',\n",
       " 'XI3203.PV',\n",
       " 'XI3204.PV',\n",
       " 'XI3205.PV',\n",
       " 'XI3206.PV']"
      ]
     },
     "execution_count": 6,
     "metadata": {},
     "output_type": "execute_result"
    }
   ],
   "source": [
    "lista_out"
   ]
  },
  {
   "cell_type": "code",
   "execution_count": null,
   "metadata": {},
   "outputs": [],
   "source": []
  }
 ],
 "metadata": {
  "kernelspec": {
   "display_name": "Python 3",
   "language": "python",
   "name": "python3"
  },
  "language_info": {
   "codemirror_mode": {
    "name": "ipython",
    "version": 3
   },
   "file_extension": ".py",
   "mimetype": "text/x-python",
   "name": "python",
   "nbconvert_exporter": "python",
   "pygments_lexer": "ipython3",
   "version": "3.7.3"
  }
 },
 "nbformat": 4,
 "nbformat_minor": 2
}
