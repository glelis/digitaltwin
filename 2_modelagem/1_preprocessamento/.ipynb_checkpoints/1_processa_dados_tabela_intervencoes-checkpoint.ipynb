{
 "cells": [
  {
   "cell_type": "markdown",
   "metadata": {},
   "source": [
    "## 1.2. Tabela de intervenções"
   ]
  },
  {
   "cell_type": "markdown",
   "metadata": {},
   "source": [
    "O objetivo do notebook é ler os dados da tabela de intervenções e armazená-los."
   ]
  },
  {
   "cell_type": "code",
   "execution_count": 1,
   "metadata": {},
   "outputs": [],
   "source": [
    "import pandas as pd\n",
    "import os"
   ]
  },
  {
   "cell_type": "code",
   "execution_count": 2,
   "metadata": {},
   "outputs": [],
   "source": [
    "def path(name):\n",
    "    path = os.path.join('..','..','1_dados_raw','tabela_de_intervencoes',name)\n",
    "    return(path)\n",
    "\n",
    "def path_out(name):\n",
    "    path = os.path.join('out',name)\n",
    "    return(path)"
   ]
  },
  {
   "cell_type": "code",
   "execution_count": 3,
   "metadata": {},
   "outputs": [
    {
     "data": {
      "text/plain": [
       "(18, 9)"
      ]
     },
     "execution_count": 3,
     "metadata": {},
     "output_type": "execute_result"
    }
   ],
   "source": [
    "name = 'Tabela de intervenções SC302A - parcial até JUN-2019 (1).xlsx'\n",
    "\n",
    "data = pd.read_excel(path(name))\n",
    "data = data[data['TAG'].str.contains('302A')]\n",
    "data.shape"
   ]
  },
  {
   "cell_type": "code",
   "execution_count": 4,
   "metadata": {},
   "outputs": [
    {
     "data": {
      "text/html": [
       "<div>\n",
       "<style scoped>\n",
       "    .dataframe tbody tr th:only-of-type {\n",
       "        vertical-align: middle;\n",
       "    }\n",
       "\n",
       "    .dataframe tbody tr th {\n",
       "        vertical-align: top;\n",
       "    }\n",
       "\n",
       "    .dataframe thead th {\n",
       "        text-align: right;\n",
       "    }\n",
       "</style>\n",
       "<table border=\"1\" class=\"dataframe\">\n",
       "  <thead>\n",
       "    <tr style=\"text-align: right;\">\n",
       "      <th></th>\n",
       "      <th>TAG</th>\n",
       "      <th>Nota PM</th>\n",
       "      <th>Ordem</th>\n",
       "      <th>Inicios dos trabalhos</th>\n",
       "      <th>Termino dos trabalhos</th>\n",
       "      <th>Motivo</th>\n",
       "      <th>Obs</th>\n",
       "      <th>Serviços</th>\n",
       "      <th>Perdas</th>\n",
       "    </tr>\n",
       "  </thead>\n",
       "  <tbody>\n",
       "    <tr>\n",
       "      <th>0</th>\n",
       "      <td>RS01-SC-302A</td>\n",
       "      <td>9.600012e+10</td>\n",
       "      <td>9858395.0</td>\n",
       "      <td>01.03.2016</td>\n",
       "      <td>04.03.2016</td>\n",
       "      <td>VERIFICAR VALVULAS 2º EST COM TEMP ALTA</td>\n",
       "      <td>NaN</td>\n",
       "      <td>Inspecionado válvulas e substituido aneis rasp...</td>\n",
       "      <td>290.0</td>\n",
       "    </tr>\n",
       "    <tr>\n",
       "      <th>4</th>\n",
       "      <td>RS01-SC-302A</td>\n",
       "      <td>9.300075e+10</td>\n",
       "      <td>9880110.0</td>\n",
       "      <td>04.05.2016</td>\n",
       "      <td>04.05.2016</td>\n",
       "      <td>C302A -&gt; Alarmando vibração no 1º estági</td>\n",
       "      <td>NaN</td>\n",
       "      <td>Inspecionado válvulas de sucção e descarga do ...</td>\n",
       "      <td>NaN</td>\n",
       "    </tr>\n",
       "    <tr>\n",
       "      <th>10</th>\n",
       "      <td>RS01-SC-302A</td>\n",
       "      <td>9.300075e+10</td>\n",
       "      <td>9870080.0</td>\n",
       "      <td>06.04.16</td>\n",
       "      <td>18.04.16</td>\n",
       "      <td>Tempertura elevada na descarga do 2º estágio</td>\n",
       "      <td>Ultima 16000 hs</td>\n",
       "      <td>*Susbtituição das camisas dos cilindros, subst...</td>\n",
       "      <td>2400.0</td>\n",
       "    </tr>\n",
       "  </tbody>\n",
       "</table>\n",
       "</div>"
      ],
      "text/plain": [
       "             TAG       Nota PM      Ordem Inicios dos trabalhos  \\\n",
       "0   RS01-SC-302A  9.600012e+10  9858395.0            01.03.2016   \n",
       "4   RS01-SC-302A  9.300075e+10  9880110.0            04.05.2016   \n",
       "10  RS01-SC-302A  9.300075e+10  9870080.0              06.04.16   \n",
       "\n",
       "   Termino dos trabalhos                                        Motivo  \\\n",
       "0             04.03.2016       VERIFICAR VALVULAS 2º EST COM TEMP ALTA   \n",
       "4             04.05.2016      C302A -> Alarmando vibração no 1º estági   \n",
       "10              18.04.16  Tempertura elevada na descarga do 2º estágio   \n",
       "\n",
       "                Obs                                           Serviços  Perdas  \n",
       "0               NaN  Inspecionado válvulas e substituido aneis rasp...   290.0  \n",
       "4               NaN  Inspecionado válvulas de sucção e descarga do ...     NaN  \n",
       "10  Ultima 16000 hs  *Susbtituição das camisas dos cilindros, subst...  2400.0  "
      ]
     },
     "execution_count": 4,
     "metadata": {},
     "output_type": "execute_result"
    }
   ],
   "source": [
    "data.head(3)"
   ]
  },
  {
   "cell_type": "code",
   "execution_count": 5,
   "metadata": {},
   "outputs": [],
   "source": [
    "# ajuste na falha de leitura do excel (gambiarra, cuidado)\n",
    "# data.iloc[0,3] = '30.09.2017'\n",
    "# data.iloc[5,3] = '26.09.2012'\n",
    "# data.iloc[5,4] = '27.09.2012'"
   ]
  },
  {
   "cell_type": "code",
   "execution_count": 6,
   "metadata": {},
   "outputs": [],
   "source": [
    "# Organizando dataframe\n",
    "\n",
    "data['Inicios dos trabalhos'] = pd.to_datetime(data['Inicios dos trabalhos'],format = '%d.%m.%Y',errors = 'coerce')\n",
    "data['Termino dos trabalhos'] = pd.to_datetime(data['Termino dos trabalhos'], format = '%d.%m.%Y',errors = 'coerce')\n",
    "data.index = data['Inicios dos trabalhos']\n",
    "data = data.sort_index(ascending=True)\n",
    "data['tempo_execucao'] = data['Termino dos trabalhos'] - data['Inicios dos trabalhos']"
   ]
  },
  {
   "cell_type": "code",
   "execution_count": 7,
   "metadata": {},
   "outputs": [],
   "source": [
    "#Organizando dataframe\n",
    "data = data.rename(columns={'Inicios dos trabalhos' : 'Data'})\n",
    "data['Data'] = pd.to_datetime(data['Data'],format = '%d.%m.%Y',errors = 'coerce')\n",
    "data['Data'] = pd.to_datetime(data['Data'], format = '%d.%m.%Y',errors = 'coerce')\n",
    "data.index = data['Data']\n",
    "data =data.sort_index(ascending=True)\n",
    "#data['tempo_execucao'] = data['Termino dos trabalhos'] - data['Data']"
   ]
  },
  {
   "cell_type": "code",
   "execution_count": 8,
   "metadata": {},
   "outputs": [
    {
     "data": {
      "text/html": [
       "<div>\n",
       "<style scoped>\n",
       "    .dataframe tbody tr th:only-of-type {\n",
       "        vertical-align: middle;\n",
       "    }\n",
       "\n",
       "    .dataframe tbody tr th {\n",
       "        vertical-align: top;\n",
       "    }\n",
       "\n",
       "    .dataframe thead th {\n",
       "        text-align: right;\n",
       "    }\n",
       "</style>\n",
       "<table border=\"1\" class=\"dataframe\">\n",
       "  <thead>\n",
       "    <tr style=\"text-align: right;\">\n",
       "      <th></th>\n",
       "      <th>TAG</th>\n",
       "      <th>Nota PM</th>\n",
       "      <th>Ordem</th>\n",
       "      <th>Data</th>\n",
       "      <th>Termino dos trabalhos</th>\n",
       "      <th>Motivo</th>\n",
       "      <th>Obs</th>\n",
       "      <th>Serviços</th>\n",
       "      <th>Perdas</th>\n",
       "      <th>tempo_execucao</th>\n",
       "    </tr>\n",
       "    <tr>\n",
       "      <th>Data</th>\n",
       "      <th></th>\n",
       "      <th></th>\n",
       "      <th></th>\n",
       "      <th></th>\n",
       "      <th></th>\n",
       "      <th></th>\n",
       "      <th></th>\n",
       "      <th></th>\n",
       "      <th></th>\n",
       "      <th></th>\n",
       "    </tr>\n",
       "  </thead>\n",
       "  <tbody>\n",
       "    <tr>\n",
       "      <th>2011-10-29</th>\n",
       "      <td>RS01-SC-302A</td>\n",
       "      <td>50028866.0</td>\n",
       "      <td>9346741.0</td>\n",
       "      <td>2011-10-29</td>\n",
       "      <td>2011-11-21</td>\n",
       "      <td>Revisão geral, susbtituição completa do compre...</td>\n",
       "      <td>NaN</td>\n",
       "      <td>NaN</td>\n",
       "      <td>NaN</td>\n",
       "      <td>23 days</td>\n",
       "    </tr>\n",
       "    <tr>\n",
       "      <th>2012-02-16</th>\n",
       "      <td>RS01-SC-302A</td>\n",
       "      <td>50030426.0</td>\n",
       "      <td>50032820.0</td>\n",
       "      <td>2012-02-16</td>\n",
       "      <td>2012-02-22</td>\n",
       "      <td>Quebra do virabrequim</td>\n",
       "      <td>NaN</td>\n",
       "      <td>NaN</td>\n",
       "      <td>NaN</td>\n",
       "      <td>6 days</td>\n",
       "    </tr>\n",
       "  </tbody>\n",
       "</table>\n",
       "</div>"
      ],
      "text/plain": [
       "                     TAG     Nota PM       Ordem       Data  \\\n",
       "Data                                                          \n",
       "2011-10-29  RS01-SC-302A  50028866.0   9346741.0 2011-10-29   \n",
       "2012-02-16  RS01-SC-302A  50030426.0  50032820.0 2012-02-16   \n",
       "\n",
       "           Termino dos trabalhos  \\\n",
       "Data                               \n",
       "2011-10-29            2011-11-21   \n",
       "2012-02-16            2012-02-22   \n",
       "\n",
       "                                                       Motivo  Obs Serviços  \\\n",
       "Data                                                                          \n",
       "2011-10-29  Revisão geral, susbtituição completa do compre...  NaN      NaN   \n",
       "2012-02-16                             Quebra do virabrequim   NaN      NaN   \n",
       "\n",
       "            Perdas tempo_execucao  \n",
       "Data                               \n",
       "2011-10-29     NaN        23 days  \n",
       "2012-02-16     NaN         6 days  "
      ]
     },
     "execution_count": 8,
     "metadata": {},
     "output_type": "execute_result"
    }
   ],
   "source": [
    "data.head(2)"
   ]
  },
  {
   "cell_type": "code",
   "execution_count": 9,
   "metadata": {},
   "outputs": [],
   "source": [
    "name = 'tabela_de_intervencoes_out.csv'\n",
    "data.to_csv(path_out(name))"
   ]
  },
  {
   "cell_type": "code",
   "execution_count": 10,
   "metadata": {},
   "outputs": [],
   "source": [
    "name = 'tabela_de_intervencoes_out.xlsx'\n",
    "data.to_excel(path_out(name))"
   ]
  },
  {
   "cell_type": "code",
   "execution_count": null,
   "metadata": {},
   "outputs": [],
   "source": []
  }
 ],
 "metadata": {
  "kernelspec": {
   "display_name": "Python 3",
   "language": "python",
   "name": "python3"
  },
  "language_info": {
   "codemirror_mode": {
    "name": "ipython",
    "version": 3
   },
   "file_extension": ".py",
   "mimetype": "text/x-python",
   "name": "python",
   "nbconvert_exporter": "python",
   "pygments_lexer": "ipython3",
   "version": "3.7.3"
  }
 },
 "nbformat": 4,
 "nbformat_minor": 4
}
